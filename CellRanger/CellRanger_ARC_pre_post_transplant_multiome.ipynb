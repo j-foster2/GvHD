{
 "cells": [
  {
   "cell_type": "markdown",
   "id": "3aa6562b-5aa9-4466-bbc7-67cc6db2994c",
   "metadata": {},
   "source": [
    "### Notes on how to create libraries CSV file\n",
    "https://support.10xgenomics.com/single-cell-multiome-atac-gex/software/pipelines/latest/using/count\n"
   ]
  },
  {
   "cell_type": "markdown",
   "id": "509c36c3-0f5f-47d0-b8a1-ed243b8247fa",
   "metadata": {},
   "source": [
    "### Run CellRanger ARC on pcILC2s Replicate 1"
   ]
  },
  {
   "cell_type": "code",
   "execution_count": null,
   "id": "65eeb9b2-645b-497e-bb8a-dcb96087fd8e",
   "metadata": {},
   "outputs": [],
   "source": [
    "%%bash\n",
    "\n",
    "# Create output directory for pcILC2 data\n",
    "if [ ! -d /proj/dllab/jfoster/serody_project/results/tenX_scMultiome/ILC1_rep1/ ]; then\n",
    "  \n",
    "  mkdir -p /proj/dllab/jfoster/serody_project/results/tenX_scMultiome/ILC1_rep1/\n",
    "  \n",
    "fi"
   ]
  },
  {
   "cell_type": "code",
   "execution_count": null,
   "id": "59ac1943-4548-4c83-bb3d-204b1b428350",
   "metadata": {},
   "outputs": [],
   "source": [
    "%%bash\n",
    "\n",
    "# Load ssub function\n",
    "source /nas/longleaf/home/jfoster3/.bashrc; \n",
    "\n",
    "# Load Cell Ranger ARC\n",
    "module load cellranger-arc/2.0.0;\n",
    "\n",
    "# Navigate to output directory for pcILC2 replicate 1 data\n",
    "cd /proj/dllab/jfoster/serody_project/results/tenX_scMultiome/ILC1_rep1/;\n",
    "\n",
    "# Run CellRanger ARC\n",
    "ssub --mem=75g --time=1-0 -n 24 --wrap=\\\" \\\\\\\n",
    "cellranger-arc count \\\n",
    "--id=ILC1_rep1 \\\n",
    "--reference=/proj/dllab/jfoster/serody_project/data/mm10_data/refdata-cellranger-arc-mm10-2020-A-2.0.0 \\\n",
    "--libraries=/proj/dllab/jfoster/serody_project/results/tenX_scMultiome/ILC1_rep1/ICL1_rep1_libraries.csv \\\n",
    "--localcores=24 \\\n",
    "--localmem=75\\\"\n"
   ]
  },
  {
   "cell_type": "markdown",
   "id": "b7a77581-748a-4c93-b902-576391b10b5f",
   "metadata": {},
   "source": [
    "### Run CellRanger ARC on pcILC2s Replicate 2"
   ]
  },
  {
   "cell_type": "code",
   "execution_count": null,
   "id": "63ab11d2-040f-4495-b77e-99e842b52b3f",
   "metadata": {},
   "outputs": [],
   "source": [
    "%%bash\n",
    "\n",
    "# Create output directory for pcILC2 replicate 2 data\n",
    "if [ ! -d /proj/dllab/jfoster/serody_project/results/tenX_scMultiome/ILC1_rep2/ ]; then\n",
    "  \n",
    "  mkdir -p /proj/dllab/jfoster/serody_project/results/tenX_scMultiome/ILC1_rep2/\n",
    "  \n",
    "fi"
   ]
  },
  {
   "cell_type": "code",
   "execution_count": null,
   "id": "b270c477-bb27-4277-a8d0-ae4a20bc932f",
   "metadata": {},
   "outputs": [],
   "source": [
    "%%bash\n",
    "\n",
    "# Load ssub function\n",
    "source /nas/longleaf/home/jfoster3/.bashrc; \n",
    "\n",
    "# Load Cell Ranger ARC\n",
    "module load cellranger-arc/2.0.0;\n",
    "\n",
    "# Navigate to output directory for pcILC2 replicate 2 data\n",
    "cd /proj/dllab/jfoster/serody_project/results/tenX_scMultiome/ILC1_rep2/;\n",
    "\n",
    "# Run CellRanger ARC\n",
    "ssub --mem=75g --time=1-0 -n 24 --wrap=\\\" \\\\\\\n",
    "cellranger-arc count \\\n",
    "--id=ILC1_rep2 \\\n",
    "--reference=/proj/dllab/jfoster/serody_project/data/mm10_data/refdata-cellranger-arc-mm10-2020-A-2.0.0 \\\n",
    "--libraries=/proj/dllab/jfoster/serody_project/results/tenX_scMultiome/ILC1_rep2/ICL1_rep2_libraries.csv \\\n",
    "--localcores=24 \\\n",
    "--localmem=75\\\"\n"
   ]
  },
  {
   "cell_type": "markdown",
   "id": "a75d4655-664d-4695-a147-747946cd78e3",
   "metadata": {},
   "source": [
    "### Run CellRanger ARC on Pre-transplant ILC2s Replicate 1"
   ]
  },
  {
   "cell_type": "code",
   "execution_count": null,
   "id": "adebadf6-8e19-4471-98e0-17c7d384997a",
   "metadata": {},
   "outputs": [],
   "source": [
    "%%bash\n",
    "\n",
    "# Create output directory for pre-transplant ILC2 replicate 1 data\n",
    "if [ ! -d /proj/dllab/jfoster/serody_project/results/tenX_scMultiome/ILC2_rep1/ ]; then\n",
    "  \n",
    "  mkdir -p /proj/dllab/jfoster/serody_project/results/tenX_scMultiome/ILC2_rep1/\n",
    "  \n",
    "fi"
   ]
  },
  {
   "cell_type": "code",
   "execution_count": null,
   "id": "9de560d7-c39a-4126-90e3-5e1b7bd75168",
   "metadata": {},
   "outputs": [],
   "source": [
    "%%bash\n",
    "\n",
    "# Load ssub function\n",
    "source /nas/longleaf/home/jfoster3/.bashrc; \n",
    "\n",
    "# Load Cell Ranger ARC\n",
    "module load cellranger-arc/2.0.0;\n",
    "\n",
    "# Navigate to output directory for pre-transplat ILC2 replicate 1 data\n",
    "cd /proj/dllab/jfoster/serody_project/results/tenX_scMultiome/ILC2_rep1/;\n",
    "\n",
    "# Run CellRanger ARC\n",
    "ssub --mem=75g --time=1-0 -n 24 --wrap=\\\" \\\\\\\n",
    "cellranger-arc count \\\n",
    "--id=ILC2_rep1 \\\n",
    "--reference=/proj/dllab/jfoster/serody_project/data/mm10_data/refdata-cellranger-arc-mm10-2020-A-2.0.0 \\\n",
    "--libraries=/proj/dllab/jfoster/serody_project/results/tenX_scMultiome/ILC2_rep1/ILC2_rep1_libraries.csv \\\n",
    "--localcores=24 \\\n",
    "--localmem=75\\\"\n"
   ]
  },
  {
   "cell_type": "markdown",
   "id": "df8c91d9-f119-4b54-bbc0-b507a5c78cdf",
   "metadata": {},
   "source": [
    "### Run CellRanger ARC on Pre-transplant ILC2s Replicate 2"
   ]
  },
  {
   "cell_type": "code",
   "execution_count": null,
   "id": "a64df84b-8bf4-48fa-9441-7bbbd3b8bfe3",
   "metadata": {},
   "outputs": [],
   "source": [
    "%%bash\n",
    "\n",
    "# Create output directory for pre-transplant ILC2 replicate 2 data\n",
    "if [ ! -d /proj/dllab/jfoster/serody_project/results/tenX_scMultiome/ILC2_rep2/ ]; then\n",
    "  \n",
    "  mkdir -p /proj/dllab/jfoster/serody_project/results/tenX_scMultiome/ILC2_rep2/\n",
    "  \n",
    "fi"
   ]
  },
  {
   "cell_type": "code",
   "execution_count": null,
   "id": "11953a28-aefd-4b1d-b15c-4f596d1c2d7a",
   "metadata": {},
   "outputs": [],
   "source": [
    "%%bash\n",
    "\n",
    "# Load ssub function\n",
    "source /nas/longleaf/home/jfoster3/.bashrc; \n",
    "\n",
    "# Load Cell Ranger ARC\n",
    "module load cellranger-arc/2.0.0;\n",
    "\n",
    "# Navigate to output directory for pre-transplat ILC2 replicate 2 data\n",
    "cd /proj/dllab/jfoster/serody_project/results/tenX_scMultiome/ILC2_rep2/;\n",
    "\n",
    "# Run CellRanger ARC\n",
    "ssub --mem=75g --time=1-0 -n 24 --wrap=\\\" \\\\\\\n",
    "cellranger-arc count \\\n",
    "--id=ILC2_rep2 \\\n",
    "--reference=/proj/dllab/jfoster/serody_project/data/mm10_data/refdata-cellranger-arc-mm10-2020-A-2.0.0 \\\n",
    "--libraries=/proj/dllab/jfoster/serody_project/results/tenX_scMultiome/ILC2_rep2/ILC2_rep2_libraries.csv \\\n",
    "--localcores=24 \\\n",
    "--localmem=75\\\"\n"
   ]
  },
  {
   "cell_type": "markdown",
   "id": "3b919eae-c32f-4f11-92ae-03fbc0a0f312",
   "metadata": {},
   "source": [
    "### Run CellRanger ARC on Post-transplant ILC2s Replicate 1"
   ]
  },
  {
   "cell_type": "code",
   "execution_count": null,
   "id": "2aed29c8-ab52-4185-881c-f9da544464de",
   "metadata": {},
   "outputs": [],
   "source": [
    "%%bash\n",
    "\n",
    "# Create output directory for post-transplant ILC2 replicate 1 data\n",
    "if [ ! -d /proj/dllab/jfoster/serody_project/results/ex-ILC2_multiome/$1/ ]; then\n",
    "  \n",
    "  mkdir -p /proj/dllab/jfoster/serody_project/results/ex-ILC2_multiome/$1/\n",
    "  \n",
    "fi"
   ]
  },
  {
   "cell_type": "code",
   "execution_count": null,
   "id": "c8ebf9c7-3e5b-45f0-90fb-282d860f21df",
   "metadata": {},
   "outputs": [],
   "source": [
    "%%bash\n",
    "\n",
    "# Load ssub function\n",
    "source /nas/longleaf/home/jfoster3/.bashrc; \n",
    "\n",
    "# Load Cell Ranger ARC\n",
    "module load cellranger-arc/2.0.0;\n",
    "\n",
    "# Navigate to output directory for post-transplat ILC2 replicate 1 data\n",
    "cd /proj/dllab/jfoster/serody_project/results/ex-ILC2_multiome/2021-12-02/;\n",
    "\n",
    "ssub --mem=75g --time=1-0 -n 24 --wrap=\\\" \\\\\\\n",
    "cellranger-arc count \\\n",
    "--id=exILC2_GVHD_sample1 \\\n",
    "--reference=/proj/dllab/jfoster/serody_project/data/mm10_data/refdata-cellranger-arc-mm10-2020-A-2.0.0 \\\n",
    "--libraries=/proj/dllab/jfoster/serody_project/results/ex-ILC2_multiome/2021-12-02/GVHD_SL_GEX_1_libraries.csv \\\n",
    "--localcores=24 \\\n",
    "--localmem=75\\\"\n"
   ]
  },
  {
   "cell_type": "markdown",
   "id": "6a696b48-61f8-4af5-856b-81120d6be279",
   "metadata": {},
   "source": [
    "### Run CellRanger ARC on Post-transplant ILC2s Replicate 2"
   ]
  },
  {
   "cell_type": "code",
   "execution_count": null,
   "id": "9627122a-2226-4e18-b64d-a4dd0a424f11",
   "metadata": {},
   "outputs": [],
   "source": [
    "%%bash -s \"$date\"\n",
    "\n",
    "# Create output directory for post-transplant ILC2 replicate 2 data\n",
    "if [ ! -d /proj/dllab/jfoster/serody_project/results/ex-ILC2_multiome_rep2/$1/ ]; then\n",
    "  \n",
    "  mkdir -p /proj/dllab/jfoster/serody_project/results/ex-ILC2_multiome_rep2/$1/\n",
    "  \n",
    "fi"
   ]
  },
  {
   "cell_type": "code",
   "execution_count": null,
   "id": "8cbbaaf1-56fc-440b-9ce6-7551d6e94131",
   "metadata": {},
   "outputs": [],
   "source": [
    "%%bash\n",
    "\n",
    "# Load ssub function\n",
    "source /nas/longleaf/home/jfoster3/.bashrc; \n",
    "\n",
    "# Load Cell Ranger ARC\n",
    "module load cellranger-arc/2.0.0;\n",
    "\n",
    "# Navigate to output directory for post-transplat ILC2 replicate 2 data\n",
    "cd /proj/dllab/jfoster/serody_project/results/ex-ILC2_multiome_rep2/2021-12-09/;\n",
    "\n",
    "ssub --mem=75g --time=1-0 -n 24 --wrap=\\\" \\\\\\\n",
    "cellranger-arc count \\\n",
    "--id=exILC2_GVHD_sample2 \\\n",
    "--reference=/proj/dllab/jfoster/serody_project/data/mm10_data/refdata-cellranger-arc-mm10-2020-A-2.0.0 \\\n",
    "--libraries=/proj/dllab/jfoster/serody_project/results/ex-ILC2_multiome_rep2/2021-12-09/GVHD_SL_GEX_1_libraries.csv \\\n",
    "--localcores=24 \\\n",
    "--localmem=75\\\"\n"
   ]
  }
 ],
 "metadata": {
  "kernelspec": {
   "display_name": "Python 3 (ipykernel)",
   "language": "python",
   "name": "python3"
  },
  "language_info": {
   "codemirror_mode": {
    "name": "ipython",
    "version": 3
   },
   "file_extension": ".py",
   "mimetype": "text/x-python",
   "name": "python",
   "nbconvert_exporter": "python",
   "pygments_lexer": "ipython3",
   "version": "3.9.7"
  }
 },
 "nbformat": 4,
 "nbformat_minor": 5
}
