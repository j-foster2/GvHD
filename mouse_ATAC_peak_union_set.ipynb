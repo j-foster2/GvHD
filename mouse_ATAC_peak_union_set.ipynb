{
 "cells": [
  {
   "cell_type": "code",
   "execution_count": null,
   "id": "1fa4801c-42ea-46da-8828-40b28176cd4f",
   "metadata": {},
   "outputs": [],
   "source": []
  },
  {
   "cell_type": "markdown",
   "id": "c9df7c64-371e-4801-9de0-1cdf7dc690d8",
   "metadata": {},
   "source": [
    "1. Identifies the union set ATAC peaks\n",
    "\n",
    "### Scipt Notes\n",
    "1. 2022-09-19\n",
    "    1. ILC1 was a previously used sample label that has been replaced by ex-ILC2 to more accuratly reflect the biology\n",
    "    2. Window Size around Peaks == 20 based on average peak size"
   ]
  },
  {
   "cell_type": "code",
   "execution_count": 22,
   "id": "a29f58e6-f778-445f-bb13-807a64d79022",
   "metadata": {},
   "outputs": [],
   "source": [
    "import matplotlib\n",
    "matplotlib.rcParams['pdf.fonttype'] = 42\n",
    "matplotlib.rcParams['ps.fonttype'] = 42\n",
    "import matplotlib.pyplot as plt\n",
    "from matplotlib.offsetbox import AnchoredText\n",
    "import seaborn as sns\n",
    "# import csv\n",
    "import numpy as np\n",
    "import pandas as pd\n",
    "import glob\n",
    "# import argparse\n",
    "# import os\n",
    "import time\n",
    "# import datetime\n",
    "\n",
    "# import pyBigWig #DOC: https://github.com/deeptools/pyBigWig (Written by deepTools co-author)\n",
    "# import random\n"
   ]
  },
  {
   "cell_type": "markdown",
   "id": "c5cc2c54-5b8d-47ae-a9d5-7c8ca84b6ab7",
   "metadata": {},
   "source": [
    "### mouse ILC2 and pcLC2 Data Details "
   ]
  },
  {
   "cell_type": "code",
   "execution_count": 5,
   "id": "cfc01564-360a-41ba-b707-67e91bc3111e",
   "metadata": {},
   "outputs": [],
   "source": [
    "#Name of experiment condition 1\n",
    "exp1_name = 'pcILC2'\n",
    "\n",
    "#Name of experiment condition 2\n",
    "exp2_name = 'ILC2'\n",
    "\n",
    "#Number of replicates for condition 1\n",
    "exp1_rep_num = 2\n",
    "\n",
    "#Number of replicates for condition 2\n",
    "exp2_rep_num = 3\n",
    "\n",
    "# #Directory containing narrowPeak files for condition 1\n",
    "# exp1_narrowPeak_dir = '/proj/dllab/jfoster/serody_project/results/macs2-Laurie_ATAC_2020-10-19_peakCalls/ILC1_rep*/'\n",
    "\n",
    "# #Directory containing narrowPeak files for condition 2\n",
    "# exp2_narrowPeak_dir = '/proj/dllab/jfoster/serody_project/results/macs2-Laurie_ATAC_2020-10-19_peakCalls/ILC2_rep*/'\n",
    "\n",
    "# #Directory containing BAM files for condition 1\n",
    "# exp1_bam_dir = '/proj/dllab/jfoster/serody_project/results/pipeline_output/atac-2020-10-16/ILC1_rep*/'\n",
    "\n",
    "# #Directory containing BAM files for condition 2\n",
    "# exp2_bam_dir = '/proj/dllab/jfoster/serody_project/results/pipeline_output/atac-2020-10-16/ILC2_rep*/'\n",
    "\n",
    "# #Directory containing bigWig files for condition 1\n",
    "# exp1_bw_dir = '/proj/dllab/jfoster/serody_project/results/pipeline_output/atac-2020-10-16/ILC1_rep*/'\n",
    "\n",
    "# #Directory containing bigWig files for condition 2\n",
    "# exp2_bw_dir = '/proj/dllab/jfoster/serody_project/results/pipeline_output/atac-2020-10-16/ILC2_rep*/'\n",
    "\n",
    "# #Window size to put around ROE summit\n",
    "win = 20"
   ]
  },
  {
   "cell_type": "markdown",
   "id": "acb63f6a-4f44-4d4c-9315-178fd470ed0b",
   "metadata": {},
   "source": [
    "#### Output Directory"
   ]
  },
  {
   "cell_type": "code",
   "execution_count": 4,
   "id": "d2601b05-14cd-49cf-a534-97ada8e98ac1",
   "metadata": {},
   "outputs": [],
   "source": [
    "#Create Output Dir variable\n",
    "output_dir = \"./Figure_3/\"\n"
   ]
  },
  {
   "cell_type": "markdown",
   "id": "84631748-5b2a-4b06-9e69-8492bfc64638",
   "metadata": {},
   "source": [
    "### Identification Experimental Condition 1 Union Set"
   ]
  },
  {
   "cell_type": "markdown",
   "id": "0f7176e5-417f-4323-bb6a-259da6436cfe",
   "metadata": {},
   "source": [
    "#### Distribution of Exp1 NarrowPeak Sizes"
   ]
  },
  {
   "cell_type": "code",
   "execution_count": 15,
   "id": "3f1c6c65-8400-4a39-bf0f-458c64d56444",
   "metadata": {},
   "outputs": [
    {
     "data": {
      "image/png": "[encoded data removed]",
      "text/plain": [
       "<Figure size 648x216 with 3 Axes>"
      ]
     },
     "metadata": {
      "needs_background": "light"
     },
     "output_type": "display_data"
    }
   ],
   "source": [
    "fn_exp1_narrowPeak = sorted(glob.glob('./processed_data/ILC1_ATAC_mouse_rep*narrowPeak'))\n",
    "\n",
    "#Read narrowPeak files into pandas dataFrame\n",
    "l_df_exp1_narrowPeak_size = [pd.read_csv(fn, sep = '\\t', header = None) for fn in fn_exp1_narrowPeak]  \n",
    "\n",
    "#Add names to df columns \n",
    "for df in l_df_exp1_narrowPeak_size:\n",
    "    df.columns = ['chr', 'start', 'stop', 'peakName', 'score',\n",
    "                  'na', 'foldChangeAtPeak', '-log10pvalue', '-log10qvalue', 'dist_to_summit']\n",
    "    \n",
    "#Calculate Peak sizes\n",
    "exp1_narrow_peak_sizes = [df['stop'] - df['start'] for df in l_df_exp1_narrowPeak_size]\n",
    "\n",
    "#Plot Peak sizes\n",
    "\n",
    "fig, ax = plt.subplots(1,3, figsize=(9,3));\n",
    "\n",
    "for idx, l_peak_sizes in enumerate(exp1_narrow_peak_sizes):\n",
    "    \n",
    "    sns.distplot(l_peak_sizes, ax = ax[idx], kde = False);\n",
    "\n",
    "    plt.tight_layout()\n",
    "\n"
   ]
  },
  {
   "cell_type": "markdown",
   "id": "1ec909b2-a95e-44ab-97b2-c553e68c0dd8",
   "metadata": {},
   "source": [
    "#### Average Peak Size"
   ]
  },
  {
   "cell_type": "code",
   "execution_count": 16,
   "id": "3bfd2faa-540c-4e43-a8f8-bde43e5233c2",
   "metadata": {},
   "outputs": [
    {
     "name": "stdout",
     "output_type": "stream",
     "text": [
      "Average Peak size for Exp1: 16\n"
     ]
    }
   ],
   "source": [
    "#Print Descriptive statistics for Exp1 NarrowPeaks    \n",
    "[pd.Series(list).describe() for list in exp1_narrow_peak_sizes]\n",
    "\n",
    "#Print Average Peak sizes for three experiments \n",
    "exp1_narrowPeak_size_mean = pd.Series([pd.Series(list).describe()[1] for list in exp1_narrow_peak_sizes]).mean()\n",
    "\n",
    "print(f'Average Peak size for Exp1: {exp1_narrowPeak_size_mean:.0f}')"
   ]
  },
  {
   "cell_type": "markdown",
   "id": "3fea1d33-f4df-4535-96c7-f89779783179",
   "metadata": {},
   "source": [
    "#### Define Union Set"
   ]
  },
  {
   "cell_type": "code",
   "execution_count": 18,
   "id": "60d73f23-1d2b-4676-88eb-b99eb4a9cdd4",
   "metadata": {},
   "outputs": [],
   "source": [
    "################################\n",
    "# Read in MACS2 narrowPeak files\n",
    "################################\n",
    "\n",
    "#Collect narrowPeak file names\n",
    "fn_exp1_narrowPeak = sorted(glob.glob(\"./processed_data/ILC1_ATAC_mouse_rep*narrowPeak\"))\n",
    "\n",
    "#Read narrowPeak files into pandas dataFrame\n",
    "l_df_exp1_narrowPeak = [pd.read_csv(fn, sep = '\\t', header = None) for fn in fn_exp1_narrowPeak]   \n",
    "\n",
    "\n",
    "###########################################\n",
    "# Create summit files from narrowPeak files\n",
    "###########################################\n",
    "\n",
    "for df in l_df_exp1_narrowPeak:\n",
    "    #Add names to df columns \n",
    "    df.columns = ['chr', 'start', 'stop', 'peakName', 'score',\n",
    "                  'na', 'foldChangeAtPeak', '-log10pvalue', '-log10qvalue', 'dist_to_summit']\n",
    "    \n",
    "    #Identify the summit start coordinate\n",
    "    df['start'] = df['start'] + df['dist_to_summit']\n",
    "    \n",
    "    #Identify the summit end coordinate\n",
    "    df['stop'] = df['start'] + 1\n",
    "    \n",
    "    #Drop columns not need for downstream analysis \n",
    "    df.drop(columns = ['score', 'na', 'foldChangeAtPeak', '-log10qvalue', 'dist_to_summit'], inplace = True)\n",
    "    \n",
    "l_df_exp1_summit = l_df_exp1_narrowPeak\n"
   ]
  },
  {
   "cell_type": "code",
   "execution_count": 23,
   "id": "eb7c441c-5a8d-493e-b0a7-1559e5d28df2",
   "metadata": {},
   "outputs": [
    {
     "name": "stdout",
     "output_type": "stream",
     "text": [
      "Identification of all overlapping ROE runtime: 250.25503730773926\n"
     ]
    }
   ],
   "source": [
    "\"\"\"\n",
    "NOTES ON UNION SET METHOD:\n",
    "\n",
    "This approach of creating a union set from replicates remedies the need to merge\n",
    "overlapping ROE. Here we rank the individual ROE by SPM, and for any overlapping \n",
    "ROE found between replicates the ROE with the higher SPM value is kept.\n",
    "\n",
    "\"\"\"\n",
    "\n",
    "###########################################################\n",
    "# Identify Union Set of Experimental Condition 1 replicates\n",
    "###########################################################\n",
    "\n",
    "# Conctenate experimental condition 1 replicate dataFrames \n",
    "df_exp1 = pd.concat(l_df_exp1_summit)\n",
    "\n",
    "# Remove additional haplotypes\n",
    "df_exp1 = df_exp1[~df_exp1.chr.str.contains(\"_\")]\n",
    "\n",
    "# Calculate Score Per Million\n",
    "df_exp1['SPM'] = df_exp1['-log10pvalue']/(df_exp1['-log10pvalue'].sum()/1000000)\n",
    "\n",
    "# rank experiment 1 ROE by SPM\n",
    "df_exp1 = df_exp1.sort_values(by='SPM',ascending=False)\n",
    "\n",
    "# Put window around summits\n",
    "df_exp1['start'] -= int(int(win)//2)\n",
    "df_exp1['stop'] += int(int(win)//2)\n",
    "\n",
    "# Copy of df_exp1 that allows tracking of shared ROE\n",
    "df_exp1_search = df_exp1[['chr','start','stop']].copy()\n",
    "\n",
    "# Format chr column such that all values are numerical\n",
    "df_exp1['chr'] = df_exp1['chr'].str.replace('chr','')\n",
    "df_exp1['chr'] = df_exp1['chr'].str.replace('X','23')\n",
    "df_exp1['chr'] = df_exp1['chr'].str.replace('Y','24')\n",
    "\n",
    "df_exp1_search['chr'] = df_exp1_search['chr'].str.replace('chr','')\n",
    "df_exp1_search['chr'] = df_exp1_search['chr'].str.replace('X','23')\n",
    "df_exp1_search['chr'] = df_exp1_search['chr'].str.replace('Y','24')\n",
    "\n",
    "# Typecast numerical chr column to integer\n",
    "df_exp1['chr'] = df_exp1.chr.astype('int64')\n",
    "df_exp1_search['chr'] = df_exp1_search.chr.astype('int64')\n",
    "\n",
    "# Reset df_exp1 index (needed to drop ROE from df_exp1)\n",
    "df_exp1.reset_index(inplace=True)\n",
    "df_exp1.drop(columns = ['index'],inplace=True)\n",
    "\n",
    "# Set up column to track number of overlap status\n",
    "df_exp1_search['overlap'] = 0\n",
    "\n",
    "# Type Cast secondary df_exp1 into ndarray (faster computation)\n",
    "nd_exp1_search = df_exp1_search.values\n",
    "\n",
    "# Establish start time for Union identification loop\n",
    "start_time = time.time()\n",
    "\n",
    "for idx, row in df_exp1.iterrows():\n",
    "    # Create readable varibles for df_exp1 column names\n",
    "    chr, start, stop, peakNAME, pval, spm = row\n",
    "    \n",
    "    # Don't search all ROE for overlap if peak has already been tagged as overlapping \n",
    "    if nd_exp1_search.item((idx,3)) == 1:\n",
    "        continue\n",
    "    \n",
    "    # Search numpy arrary for overlapping peaks\n",
    "    else:\n",
    "        idx2 = np.where((\\\n",
    "        nd_exp1_search[:,0] == chr) & \\\n",
    "        (nd_exp1_search[:,1] <= start) & \\\n",
    "        (nd_exp1_search[:,2] >= start) | \\\n",
    "        (nd_exp1_search[:,0] == chr) & \\\n",
    "        (nd_exp1_search[:,1] <= stop) & \\\n",
    "        (nd_exp1_search[:,2] >= stop))\n",
    "\n",
    "    # Tag coordinates that overlap with a peak of higher pval\n",
    "    for idx in idx2[0][1:]:\n",
    "        nd_exp1_search[idx,3] = 1\n",
    "\n",
    "# Print time to identify all overlapping peaks \n",
    "print(f'Identification of all overlapping ROE runtime: {(time.time() - start_time)}')\n",
    "\n",
    "# Capture all idx with a overlap = 1\n",
    "del_idx = np.where(nd_exp1_search[:,3] == 1)[0]\n",
    "\n",
    "# Delete overlap windows\n",
    "df_exp1.drop(del_idx,inplace=True)\n",
    "\n",
    "# Correct the chr nomenclature\n",
    "df_exp1['chr'] = df_exp1.chr.astype('str')\n",
    "\n",
    "df_exp1['chr'] = df_exp1['chr'].str.replace('23','X')\n",
    "\n",
    "df_exp1['chr'] = df_exp1['chr'].str.replace('24','Y')\n",
    "\n",
    "df_exp1['chr'] = 'chr' + df_exp1['chr'].astype(str)\n",
    "\n",
    "# Output file - experimental condition union set with specified window size\n",
    "df_exp1.to_csv(f'{output_dir}/{exp1_name}_union_{win}bp.bed',\n",
    "                   header=None,index=False,sep='\\t')\n",
    "\n",
    "# Output file - Uniom set summit coordinates\n",
    "df_exp1_out = df_exp1.copy()\n",
    "\n",
    "df_exp1_out['start'] += int(int(win)//2) # Remove window from genomic coordinates\n",
    "\n",
    "df_exp1_out['stop'] -= int(int(win)//2) # Remove window from genomic coordinates\n",
    "\n",
    "df_exp1_out.to_csv(f'{output_dir}/{exp1_name}_union_summits.bed',\n",
    "                       header=None,index=False,sep='\\t')\n"
   ]
  },
  {
   "cell_type": "markdown",
   "id": "74a0474b-eb96-4e94-b842-8955f8967ba6",
   "metadata": {},
   "source": [
    "### Identification Experimental Condition 2 Union Set"
   ]
  },
  {
   "cell_type": "markdown",
   "id": "d9cade45-e527-46e2-8cc7-d47cd6808802",
   "metadata": {},
   "source": [
    "#### Distribution of Exp2 NarrowPeak Sizes"
   ]
  },
  {
   "cell_type": "code",
   "execution_count": 27,
   "id": "7b3f4e4b-aac7-496c-80ee-887d76d5a167",
   "metadata": {},
   "outputs": [
    {
     "data": {
      "image/png": "[encoded data removed]",
      "text/plain": [
       "<Figure size 648x216 with 3 Axes>"
      ]
     },
     "metadata": {
      "needs_background": "light"
     },
     "output_type": "display_data"
    }
   ],
   "source": [
    "fn_exp2_narrowPeak = sorted(glob.glob(\"./processed_data/ILC2_ATAC_mouse_rep*narrowPeak\"))\n",
    "\n",
    "#Read narrowPeak files into pandas dataFrame\n",
    "l_df_exp2_narrowPeak_size = [pd.read_csv(fn, sep = '\\t', header = None) for fn in fn_exp2_narrowPeak]  \n",
    "\n",
    "#Add names to df columns \n",
    "for df in l_df_exp2_narrowPeak_size:\n",
    "    df.columns = ['chr', 'start', 'stop', 'peakName', 'score',\n",
    "                  'na', 'foldChangeAtPeak', '-log10pvalue', '-log10qvalue', 'dist_to_summit']\n",
    "    \n",
    "#Calculate Peak sizes\n",
    "exp2_narrow_peak_sizes = [df['stop'] - df['start'] for df in l_df_exp2_narrowPeak_size]\n",
    "\n",
    "#Plot Peak sizes\n",
    "\n",
    "fig, ax = plt.subplots(1,3, figsize=(9,3));\n",
    "\n",
    "for idx, l_peak_sizes in enumerate(exp2_narrow_peak_sizes):\n",
    "    \n",
    "    sns.distplot(l_peak_sizes, ax = ax[idx], kde = False);\n",
    "\n",
    "    plt.tight_layout()\n",
    "\n"
   ]
  },
  {
   "cell_type": "markdown",
   "id": "2d9a4c8e-2f49-4c18-879e-bff5adb188a7",
   "metadata": {},
   "source": [
    "#### Average Peak Size"
   ]
  },
  {
   "cell_type": "code",
   "execution_count": 28,
   "id": "136a9672-cf1c-4d26-b99f-4afe103d1196",
   "metadata": {},
   "outputs": [
    {
     "name": "stdout",
     "output_type": "stream",
     "text": [
      "Average Peak size for Exp2: 17\n"
     ]
    }
   ],
   "source": [
    "#Print Descriptive statistics for Exp2 NarrowPeaks    \n",
    "[pd.Series(list).describe() for list in exp2_narrow_peak_sizes]\n",
    "\n",
    "#Print Average Peak sizes for three experiments \n",
    "exp2_narrowPeak_size_mean = pd.Series([pd.Series(list).describe()[1] for list in exp2_narrow_peak_sizes]).mean()\n",
    "\n",
    "print(f'Average Peak size for Exp2: {exp2_narrowPeak_size_mean:.0f}')"
   ]
  },
  {
   "cell_type": "markdown",
   "id": "10bb4329-39ae-4fe3-9de7-50d87f3dd8dc",
   "metadata": {},
   "source": [
    "#### Define Union Set"
   ]
  },
  {
   "cell_type": "code",
   "execution_count": 30,
   "id": "b1d72785-2670-4f25-ad91-b0a7f6dbe3b3",
   "metadata": {},
   "outputs": [
    {
     "data": {
      "text/plain": [
       "['./processed_data/ILC2_ATAC_mouse_rep1_peaks.narrowPeak',\n",
       " './processed_data/ILC2_ATAC_mouse_rep2_peaks.narrowPeak',\n",
       " './processed_data/ILC2_ATAC_mouse_rep3_peaks.narrowPeak']"
      ]
     },
     "execution_count": 30,
     "metadata": {},
     "output_type": "execute_result"
    }
   ],
   "source": [
    "################################\n",
    "# Read in MACS2 narrowPeak files\n",
    "################################\n",
    "\n",
    "#Collect narrowPeak file names\n",
    "fn_exp2_narrowPeak = sorted(glob.glob(\"./processed_data/ILC2_ATAC_mouse_rep*narrowPeak\"))\n",
    "\n",
    "#Read narrowPeak files into pandas dataFrame\n",
    "l_df_exp2_narrowPeak = [pd.read_csv(fn, sep = '\\t', header = None) for fn in fn_exp2_narrowPeak]   \n",
    "\n",
    "\n",
    "###########################################\n",
    "# Create summit files from narrowPeak files\n",
    "###########################################\n",
    "\n",
    "for df in l_df_exp2_narrowPeak:\n",
    "    #Add names to df columns \n",
    "    df.columns = ['chr', 'start', 'stop', 'peakName', 'score',\n",
    "                  'na', 'foldChangeAtPeak', '-log10pvalue', '-log10qvalue', 'dist_to_summit']\n",
    "    \n",
    "    #Identify the summit start coordinate\n",
    "    df['start'] = df['start'] + df['dist_to_summit']\n",
    "    \n",
    "    #Identify the summit end coordinate\n",
    "    df['stop'] = df['start'] + 1\n",
    "    \n",
    "    #Drop columns not need for downstream analysis \n",
    "    df.drop(columns = ['score', 'na', 'foldChangeAtPeak', '-log10qvalue', 'dist_to_summit'], inplace = True)\n",
    "    \n",
    "l_df_exp2_summit = l_df_exp2_narrowPeak\n",
    "\n",
    "fn_exp2_narrowPeak"
   ]
  },
  {
   "cell_type": "code",
   "execution_count": 31,
   "id": "e0825e36-27a8-421d-9e38-0363bb283ab2",
   "metadata": {},
   "outputs": [
    {
     "name": "stdout",
     "output_type": "stream",
     "text": [
      "Identification of all overlapping ROE runtime: 346.60282039642334\n"
     ]
    }
   ],
   "source": [
    "\"\"\"\n",
    "NOTES ON UNION SET METHOD:\n",
    "\n",
    "This approach of creating a union set from replicates remedies the need to merge\n",
    "overlapping ROE. Here we rank the individual ROE by SPM, and for any overlapping \n",
    "ROE found between replicates the ROE with the higher SPM value is kept.\n",
    "\n",
    "\"\"\"\n",
    "\n",
    "###########################################################\n",
    "# Identify Union Set of Experimental Condition 1 replicates\n",
    "###########################################################\n",
    "\n",
    "# Conctenate experimental condition 1 replicate dataFrames \n",
    "df_exp2 = pd.concat(l_df_exp2_summit)\n",
    "\n",
    "# Remove additional haplotypes\n",
    "df_exp2 = df_exp2[~df_exp2.chr.str.contains(\"_\")]\n",
    "\n",
    "# Calculate Score Per Million\n",
    "df_exp2['SPM'] = df_exp2['-log10pvalue']/(df_exp2['-log10pvalue'].sum()/1000000)\n",
    "\n",
    "# rank experiment 1 ROE by SPM\n",
    "df_exp2 = df_exp2.sort_values(by='SPM',ascending=False)\n",
    "\n",
    "# Put window around summits\n",
    "df_exp2['start'] -= int(int(win)//2)\n",
    "df_exp2['stop'] += int(int(win)//2)\n",
    "\n",
    "# Copy of df_exp2 that allows tracking of shared ROE\n",
    "df_exp2_search = df_exp2[['chr','start','stop']].copy()\n",
    "\n",
    "# Format chr column such that all values are numerical\n",
    "df_exp2['chr'] = df_exp2['chr'].str.replace('chr','')\n",
    "df_exp2['chr'] = df_exp2['chr'].str.replace('X','23')\n",
    "df_exp2['chr'] = df_exp2['chr'].str.replace('Y','24')\n",
    "\n",
    "df_exp2_search['chr'] = df_exp2_search['chr'].str.replace('chr','')\n",
    "df_exp2_search['chr'] = df_exp2_search['chr'].str.replace('X','23')\n",
    "df_exp2_search['chr'] = df_exp2_search['chr'].str.replace('Y','24')\n",
    "\n",
    "# Typecast numerical chr column to integer\n",
    "df_exp2['chr'] = df_exp2.chr.astype('int64')\n",
    "df_exp2_search['chr'] = df_exp2_search.chr.astype('int64')\n",
    "\n",
    "# Reset df_exp2 index (needed to drop ROE from df_exp2)\n",
    "df_exp2.reset_index(inplace=True)\n",
    "df_exp2.drop(columns = ['index'],inplace=True)\n",
    "\n",
    "# Set up column to track number of overlap status\n",
    "df_exp2_search['overlap'] = 0\n",
    "\n",
    "# Type Cast secondary df_exp2 into ndarray (faster computation)\n",
    "nd_exp2_search = df_exp2_search.values\n",
    "\n",
    "# Establish start time for Union identification loop\n",
    "start_time = time.time()\n",
    "\n",
    "for idx, row in df_exp2.iterrows():\n",
    "    # Create readable varibles for df_exp2 column names\n",
    "    chr, start, stop, peakNAME, pval, spm = row\n",
    "    \n",
    "    # Don't search all ROE for overlap if peak has already been tagged as overlapping \n",
    "    if nd_exp2_search.item((idx,3)) == 1:\n",
    "        continue\n",
    "    \n",
    "    # Search numpy arrary for overlapping peaks\n",
    "    else:\n",
    "        idx2 = np.where((\\\n",
    "        nd_exp2_search[:,0] == chr) & \\\n",
    "        (nd_exp2_search[:,1] <= start) & \\\n",
    "        (nd_exp2_search[:,2] >= start) | \\\n",
    "        (nd_exp2_search[:,0] == chr) & \\\n",
    "        (nd_exp2_search[:,1] <= stop) & \\\n",
    "        (nd_exp2_search[:,2] >= stop))\n",
    "\n",
    "    # Tag coordinates that overlap with a peak of higher pval\n",
    "    for idx in idx2[0][1:]:\n",
    "        nd_exp2_search[idx,3] = 1\n",
    "\n",
    "# Print time to identify all overlapping peaks \n",
    "print(f'Identification of all overlapping ROE runtime: {(time.time() - start_time)}')\n",
    "\n",
    "# Capture all idx with a overlap = 1\n",
    "del_idx = np.where(nd_exp2_search[:,3] == 1)[0]\n",
    "\n",
    "# Delete overlap windows\n",
    "df_exp2.drop(del_idx,inplace=True)\n",
    "\n",
    "# Correct the chr nomenclature\n",
    "df_exp2['chr'] = df_exp2.chr.astype('str')\n",
    "\n",
    "df_exp2['chr'] = df_exp2['chr'].str.replace('23','X')\n",
    "\n",
    "df_exp2['chr'] = df_exp2['chr'].str.replace('24','Y')\n",
    "\n",
    "df_exp2['chr'] = 'chr' + df_exp2['chr'].astype(str)\n",
    "\n",
    "# Output file - experimental condition union set with specified window size\n",
    "df_exp2.to_csv(f'{output_dir}/{exp2_name}_union_{win}bp.bed',\n",
    "                   header=None,index=False,sep='\\t')\n",
    "\n",
    "# Output file - Uniom set summit coordinates\n",
    "df_exp2_out = df_exp2.copy()\n",
    "\n",
    "df_exp2_out['start'] += int(int(win)//2) # Remove window from genomic coordinates\n",
    "\n",
    "df_exp2_out['stop'] -= int(int(win)//2) # Remove window from genomic coordinates\n",
    "\n",
    "df_exp2_out.to_csv(f'{output_dir}/{exp2_name}_union_summits.bed',\n",
    "                       header=None,index=False,sep='\\t')\n"
   ]
  },
  {
   "cell_type": "markdown",
   "id": "f106619f-870e-493f-abbd-c0109a11fe77",
   "metadata": {},
   "source": [
    "### Identification Experimental Condition 1 and 2 Union Set"
   ]
  },
  {
   "cell_type": "code",
   "execution_count": 34,
   "id": "c570e901-d838-411c-b66b-d12cf9b22463",
   "metadata": {},
   "outputs": [],
   "source": [
    "###########################################\n",
    "# Read in POS_DMSO NEG_DMSO Union set files\n",
    "###########################################\n",
    "\n",
    "#Collect union file names\n",
    "fn_exp1_exp2_union_sets = [f'{output_dir}/{exp1_name}_union_summits.bed',\n",
    "                           f'{output_dir}/{exp2_name}_union_summits.bed']\n",
    "\n",
    "#Read narrowPeak files into pandas dataFrame\n",
    "l_df_exp1_exp2_union_sets = [pd.read_csv(fn, sep = '\\t', header = None) for fn in fn_exp1_exp2_union_sets]   \n",
    "\n",
    "for df in l_df_exp1_exp2_union_sets:\n",
    "    #Add column headers to POS/NEG Union dataFrames\n",
    "    df.columns = ['chr', 'start', 'stop', 'peakName', '-log10pvalue', 'SPM']"
   ]
  },
  {
   "cell_type": "code",
   "execution_count": 35,
   "id": "33684f0a-d3fe-4b48-9e3a-dccf6129ac21",
   "metadata": {},
   "outputs": [
    {
     "name": "stdout",
     "output_type": "stream",
     "text": [
      "Identification of all overlapping ROE runtime: 458.17008781433105\n"
     ]
    }
   ],
   "source": [
    "\"\"\"\n",
    "NOTES ON UNION SET METHOD:\n",
    "\n",
    "This approach of creating a union set from replicates remedies the need to merge\n",
    "overlapping ROE. Here we rank the individual ROE by SPM, and for any overlapping \n",
    "ROE of found between replicates the ROE with the higher SPM value is kept.\n",
    "\n",
    "\"\"\"\n",
    "\n",
    "#########################\n",
    "# Identify Union Set \n",
    "#########################\n",
    "\n",
    "win = 200\n",
    "\n",
    "# Conctenate POS_DMSO NEG_DMSO Union dataFrames \n",
    "df_exp1_exp2 = pd.concat(l_df_exp1_exp2_union_sets)\n",
    "\n",
    "# Remove additional haplotypes\n",
    "df_exp1_exp2 = df_exp1_exp2[~df_exp1_exp2.chr.str.contains(\"_\")]\n",
    "\n",
    "# Rank DMSO union by SPM\n",
    "df_exp1_exp2 = df_exp1_exp2.sort_values(by='SPM',ascending=False)\n",
    "\n",
    "# Put emperically derived window around summits\n",
    "df_exp1_exp2['start'] -= int(int(win)//2)\n",
    "df_exp1_exp2['stop'] += int(int(win)//2)\n",
    "\n",
    "# Copy of df_exp1_exp2 (allows tracking of shared ROE)\n",
    "df_exp1_exp2_search = df_exp1_exp2[['chr','start','stop']].copy()\n",
    "\n",
    "# Format chr column such that all values are numerical\n",
    "df_exp1_exp2['chr'] = df_exp1_exp2['chr'].str.replace('chr','')\n",
    "df_exp1_exp2['chr'] = df_exp1_exp2['chr'].str.replace('X','23')\n",
    "df_exp1_exp2['chr'] = df_exp1_exp2['chr'].str.replace('Y','24')\n",
    "\n",
    "df_exp1_exp2_search['chr'] = df_exp1_exp2_search['chr'].str.replace('chr','')\n",
    "df_exp1_exp2_search['chr'] = df_exp1_exp2_search['chr'].str.replace('X','23')\n",
    "df_exp1_exp2_search['chr'] = df_exp1_exp2_search['chr'].str.replace('Y','24')\n",
    "\n",
    "# Typecast numerical chr column to integer\n",
    "df_exp1_exp2['chr'] = df_exp1_exp2.chr.astype('int64')\n",
    "df_exp1_exp2_search['chr'] = df_exp1_exp2_search.chr.astype('int64')\n",
    "\n",
    "# Reset df_exp1_exp2 index (needed to drop ROE from df_exp1_exp2)\n",
    "df_exp1_exp2.reset_index(inplace=True)\n",
    "df_exp1_exp2.drop(columns = ['index'],inplace=True)\n",
    "\n",
    "# Set up column to track number of overlap status\n",
    "df_exp1_exp2_search['overlap'] = 0\n",
    "\n",
    "# Type Cast secondary df_exp1_exp2 into ndarray (faster computation)\n",
    "nd_exp1_exp2_search = df_exp1_exp2_search.values\n",
    "\n",
    "#Establiosh start time for Union identification loop\n",
    "start_time = time.time()\n",
    "\n",
    "for idx, row in df_exp1_exp2.iterrows():\n",
    "    #Create readable varibles for df_exp1_exp2 column names\n",
    "    chr, start, stop, peakNAME, pval, spm = row\n",
    "    \n",
    "    #Don't search all ROE for overlap if peak has already been tagged as overlapping \n",
    "    if nd_exp1_exp2_search.item((idx,3)) == 1:\n",
    "        continue\n",
    "    \n",
    "    #Search numpy arrary for overlapping peaks\n",
    "    else:\n",
    "        idx2 = np.where((\\\n",
    "        nd_exp1_exp2_search[:,0] == chr) & \\\n",
    "        (nd_exp1_exp2_search[:,1] <= start) & \\\n",
    "        (nd_exp1_exp2_search[:,2] >= start) | \\\n",
    "        (nd_exp1_exp2_search[:,0] == chr) & \\\n",
    "        (nd_exp1_exp2_search[:,1] <= stop) & \\\n",
    "        (nd_exp1_exp2_search[:,2] >= stop))\n",
    "\n",
    "    #Tag coordinates that overlap with a peak of higher pval\n",
    "    for idx in idx2[0][1:]:\n",
    "        nd_exp1_exp2_search[idx,3] = 1\n",
    "\n",
    "# Print time to identify all overlapping peaks \n",
    "print(f'Identification of all overlapping ROE runtime: {(time.time() - start_time)}')\n",
    "\n",
    "# Capture all idx with a overlap = 1\n",
    "del_idx = np.where(nd_exp1_exp2_search[:,3] == 1)[0]\n",
    "\n",
    "# Delete overlap windows\n",
    "df_exp1_exp2.drop(del_idx,inplace=True)\n",
    "\n",
    "# Correct the chr nomenclature\n",
    "df_exp1_exp2['chr'] = df_exp1_exp2.chr.astype('str')\n",
    "\n",
    "df_exp1_exp2['chr'] = df_exp1_exp2['chr'].str.replace('23','X')\n",
    "\n",
    "df_exp1_exp2['chr'] = df_exp1_exp2['chr'].str.replace('24','Y')\n",
    "\n",
    "df_exp1_exp2['chr'] = 'chr' + df_exp1_exp2['chr'].astype(str)\n",
    "\n",
    "# Output file - NEG_DMSO union set with 200bp window\n",
    "df_exp1_exp2.to_csv(f'{output_dir}/{exp1_name}_{exp2_name}_union_{win}bp.bed',\n",
    "               index=False,sep='\\t', columns = ['peakName', 'chr', 'start', 'stop'],\n",
    "              header = ['peakName', 'Chr', 'Start', 'End'])\n",
    "\n",
    "# Output file - NEG_DMSO uniom set summit coordinates - Need for POS_DMSO NEG_DMSO union set\n",
    "df_exp1_exp2_out = df_exp1_exp2.copy()\n",
    "\n",
    "df_exp1_exp2_out['start'] += int(int(win)//2) # Remove window from genomic coordinates\n",
    "\n",
    "df_exp1_exp2_out['stop'] -= int(int(win)//2) # Remove window from genomic coordinates\n",
    "\n",
    "df_exp1_exp2_out.to_csv(f'{output_dir}/{exp1_name}_{exp2_name}_union_summits.bed',\n",
    "                       header=None,index=False,sep='\\t')"
   ]
  },
  {
   "cell_type": "code",
   "execution_count": null,
   "id": "9de67e53-8089-4e88-9fb7-0a58a504b378",
   "metadata": {},
   "outputs": [],
   "source": []
  }
 ],
 "metadata": {
  "kernelspec": {
   "display_name": "Python 3 (ipykernel)",
   "language": "python",
   "name": "python3"
  },
  "language_info": {
   "codemirror_mode": {
    "name": "ipython",
    "version": 3
   },
   "file_extension": ".py",
   "mimetype": "text/x-python",
   "name": "python",
   "nbconvert_exporter": "python",
   "pygments_lexer": "ipython3",
   "version": "3.9.7"
  }
 },
 "nbformat": 4,
 "nbformat_minor": 5
}
