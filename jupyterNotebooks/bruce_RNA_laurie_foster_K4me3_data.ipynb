{
 "cells": [
  {
   "cell_type": "code",
   "execution_count": null,
   "id": "1aa145b4-eec1-4271-881c-55f25bce1a36",
   "metadata": {},
   "outputs": [],
   "source": [
    "# Calculates the H3K4me3 signal at every TSS across genome and associates with  \n",
    "# RNA abunance of the corresponding genes. \n"
   ]
  },
  {
   "cell_type": "code",
   "execution_count": null,
   "id": "2f9f0f24-a9e5-470f-83df-a1b33802b2c3",
   "metadata": {},
   "outputs": [],
   "source": [
    "import glob\n",
    "import os\n",
    "import pandas as pd\n"
   ]
  },
  {
   "cell_type": "markdown",
   "id": "6ee550cf-e668-4d63-aac4-75cc0ddce910",
   "metadata": {},
   "source": [
    "#### Output Directory"
   ]
  },
  {
   "cell_type": "code",
   "execution_count": null,
   "id": "04731956-2d24-4664-b958-15d945e4e8ac",
   "metadata": {},
   "outputs": [],
   "source": [
    "# Store path to output directory\n",
    "output_dir = \"./Figure_1/\"\n"
   ]
  },
  {
   "cell_type": "markdown",
   "id": "3d58c96f-7744-455b-8ede-9edb8ab5592a",
   "metadata": {},
   "source": [
    "#### Create BED file of Refseq promotor coordinates"
   ]
  },
  {
   "cell_type": "code",
   "execution_count": null,
   "id": "01eaf80d-c470-4c2f-80dd-338628858dae",
   "metadata": {},
   "outputs": [],
   "source": [
    "#Read mm10 RefSeq file \n",
    "mm10_refseq = pd.read_csv('./referenceData/mm10_refseq_long_transcript_nohaplo_2020-01-25.bed',\n",
    "                          delimiter='\\t',\n",
    "                          header=None)\n",
    "#Format RefSeq file\n",
    "mm10_refseq.columns = ['chr','start','end','strand','geneName','transcriptID']\n",
    "\n",
    "mm10_refseq.drop(columns=['transcriptID'], inplace = True)\n",
    "\n",
    "#Create TSS BED file (-300,+500)\n",
    "upstream_dist = 300\n",
    "downstream_dist = 500\n",
    "\n",
    "with open(f'{output_dir}/refseq_promotor.bed', 'w') as output:\n",
    "    for idx, row in mm10_refseq.iterrows():\n",
    "        if row[3] == \"+\" and row[3] != 'strand':\n",
    "            output.write('%s\\t%s\\t%s\\t%s\\n' % \\\n",
    "                         (row[0], row[1] - upstream_dist, row[1] + downstream_dist,row[4]))\n",
    "        elif row[3] == \"-\" and row[3] != 'strand':\n",
    "            output.write('%s\\t%s\\t%s\\t%s\\n' % \\\n",
    "                         (row[0], row[2] - downstream_dist,row[2] + upstream_dist,row[4]))"
   ]
  },
  {
   "cell_type": "markdown",
   "id": "9a3dbf27-804e-4a48-9a47-6c090393a34c",
   "metadata": {},
   "source": [
    "#### Read gene-level RNA abundance estimates from Bruce et al. ()"
   ]
  },
  {
   "cell_type": "code",
   "execution_count": null,
   "id": "e4a31da8-ecfa-4533-9e54-0273e1d7d85e",
   "metadata": {},
   "outputs": [],
   "source": [
    "# Read in gene-level RNA abundance data for Bruce ILC2s\n",
    "rna_data = pd.read_csv('./Figure_1/ILC2_Bruce_geneLevel_RNA_abundance.txt',\n",
    "                   sep = '\\t')\n",
    "\n",
    "rna_data = rna_data.rename(columns={\"Unnamed: 0\": \"geneName\"})\n",
    "\n",
    "rna_data = rna_data.set_index(\"geneName\")\n",
    "\n",
    "rna_data = rna_data.loc[:,\"abundance.ILC2_RNA_Bruce_rep1\":\"abundance.ILC2_RNA_Bruce_rep3\"]\n"
   ]
  },
  {
   "cell_type": "markdown",
   "id": "97e46c43-be73-49f6-b95e-172046da8f6b",
   "metadata": {},
   "source": [
    "#### Calculate K4me3 read-depth normalized signal at gene promoters"
   ]
  },
  {
   "cell_type": "code",
   "execution_count": null,
   "id": "15bcce41-c4d5-4a3d-b6c3-8190a8247f10",
   "metadata": {},
   "outputs": [],
   "source": [
    "str_k4me3_bw"
   ]
  },
  {
   "cell_type": "code",
   "execution_count": null,
   "id": "a718b67f-6435-4bb0-b597-b8c825725495",
   "metadata": {},
   "outputs": [],
   "source": [
    "# Read the bigWig file names for all acute ChIP-seq data\n",
    "path_To_Laurie_Foster_K4me3_Data = './processed_data/'\n",
    "\n",
    "k4me3_bw = sorted(glob.glob(f'{path_To_Laurie_Foster_K4me3_Data}blfH3K4ME3_rep*'))\n",
    "\n",
    "# Convert bigWig file name list to space delimited string\n",
    "str_k4me3_bw = \" \".join(k4me3_bw)\n",
    "\n",
    "# Experiment Names\n",
    "exp_names = [\"H3K4me3_rep1\", \"H3K4me3_rep2\"]\n",
    "\n",
    "# Convert experiment names list to space delimited string\n",
    "str_exp_names = \" \".join(exp_names)\n"
   ]
  },
  {
   "cell_type": "code",
   "execution_count": null,
   "id": "10ad3cae-0ba9-4aee-ac66-83a98872ad60",
   "metadata": {},
   "outputs": [],
   "source": [
    "# Save promoter bed file \n",
    "mm10_promoter_bed = f'{output_dir}refseq_promotor.bed'\n"
   ]
  },
  {
   "cell_type": "code",
   "execution_count": null,
   "id": "525cb811-0b35-4a34-8f47-9e6d6a8757a2",
   "metadata": {},
   "outputs": [],
   "source": [
    "%%bash \n",
    "\n",
    "# Check version of deeptools\n",
    "deeptools --version\n"
   ]
  },
  {
   "cell_type": "code",
   "execution_count": null,
   "id": "8fe1ba4c-2e57-4bd8-88f2-71865af9d5c5",
   "metadata": {},
   "outputs": [],
   "source": [
    "%%bash -s  \"$str_k4me3_bw\" \"$str_exp_names\" \"$mm10_promoter_bed\" \"$output_dir\"\n",
    "\n",
    "multiBigwigSummary BED-file \\\n",
    "--bwfiles $1 \\\n",
    "--BED $3 \\\n",
    "--labels $2 \\\n",
    "--outFileName $4ILC2_H3K4me3_promoter.npz \\\n",
    "--outRawCounts $4ILC2_H3K4me3_promoter.tab \\\n",
    "-p 24"
   ]
  },
  {
   "cell_type": "markdown",
   "id": "91af785c-be63-4c35-9afb-847bb79b6e44",
   "metadata": {},
   "source": [
    "#### Join RNA and H3K4me3 DataFrames"
   ]
  },
  {
   "cell_type": "code",
   "execution_count": null,
   "id": "126dda3f-c65c-44c4-86eb-23d5825f1465",
   "metadata": {},
   "outputs": [],
   "source": [
    "# Annotate deepTools matrix with geneNames\n",
    "k4me3_signal = pd.read_csv(f'{output_dir}ILC2_H3K4me3_promoter.tab',\n",
    "                           sep = '\\t',\n",
    "                           header = 0,\n",
    "                           names = ['chr','start','end','H3K4me3_rep1','H3K4me3_rep2'],\n",
    "                           index_col = ['chr','start','end'])"
   ]
  },
  {
   "cell_type": "code",
   "execution_count": null,
   "id": "5e1830cb-a84b-4e29-93c4-64bafca0cddd",
   "metadata": {},
   "outputs": [],
   "source": [
    "# Join RNA and H3K4me3 data into one dataframe\n",
    "mm10_promoter_bed_df = pd.read_csv(mm10_promoter_bed,\n",
    "                                   sep = '\\t',\n",
    "                                   header = None,\n",
    "                                   names = ['chr','start','end', 'geneName'],\n",
    "                                   index_col = ['chr','start','end'])\n",
    "\n",
    "mm10_promoter_bed_df = k4me3_signal.join(mm10_promoter_bed_df)\n",
    "\n",
    "mm10_promoter_bed_df = mm10_promoter_bed_df.set_index('geneName')\n",
    "\n",
    "rna_data_k4me3_data = rna_data.join(mm10_promoter_bed_df)\n",
    "\n",
    "rna_data_k4me3_data = rna_data_k4me3_data.assign(ILC2_RNA_avg = rna_data_k4me3_data.loc[:,\"abundance.ILC2_RNA_Bruce_rep1\":\"abundance.ILC2_RNA_Bruce_rep3\"].mean(axis = 1))\n",
    "\n",
    "rna_data_k4me3_data = rna_data_k4me3_data.assign(ILC2_K4me3_avg = rna_data_k4me3_data.loc[:,\"H3K4me3_rep1\":\"H3K4me3_rep2\"].mean(axis = 1))\n"
   ]
  },
  {
   "cell_type": "markdown",
   "id": "cb409438-ef0c-42e9-ac28-ccb54acb73a1",
   "metadata": {},
   "source": [
    "#### Save Data for Visualization in R"
   ]
  },
  {
   "cell_type": "code",
   "execution_count": null,
   "id": "0969ce79-121b-434f-b15f-86839ef20c72",
   "metadata": {},
   "outputs": [],
   "source": [
    "#Save dataframe for visualization in R\n",
    "rna_data_k4me3_data.to_csv(f'{output_dir}bruce_rna_laurie_k4me3_data.txt',\n",
    "                           sep = '\\t',\n",
    "                           index = False)"
   ]
  },
  {
   "cell_type": "code",
   "execution_count": null,
   "id": "37d97c00-5f67-403c-a4f7-4412f1528259",
   "metadata": {},
   "outputs": [],
   "source": []
  }
 ],
 "metadata": {
  "kernelspec": {
   "display_name": "Python 3 (ipykernel)",
   "language": "python",
   "name": "python3"
  },
  "language_info": {
   "codemirror_mode": {
    "name": "ipython",
    "version": 3
   },
   "file_extension": ".py",
   "mimetype": "text/x-python",
   "name": "python",
   "nbconvert_exporter": "python",
   "pygments_lexer": "ipython3",
   "version": "3.9.7"
  }
 },
 "nbformat": 4,
 "nbformat_minor": 5
}
