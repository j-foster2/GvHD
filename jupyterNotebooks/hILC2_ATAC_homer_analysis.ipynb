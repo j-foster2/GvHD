{
 "cells": [
  {
   "cell_type": "code",
   "execution_count": null,
   "id": "35260e52-b0bd-4cf9-8858-676c709039a8",
   "metadata": {},
   "outputs": [],
   "source": [
    "# hILC2 homer analysis"
   ]
  },
  {
   "cell_type": "code",
   "execution_count": null,
   "id": "73b07557-a3a8-4e90-853b-9a3d717d3372",
   "metadata": {},
   "outputs": [],
   "source": [
    "import pandas as pd\n",
    "import glob\n",
    "import numpy as np\n",
    "import matplotlib\n",
    "matplotlib.rcParams['pdf.fonttype'] = 42\n",
    "matplotlib.rcParams['ps.fonttype'] = 42\n",
    "import matplotlib.pyplot as plt\n",
    "from matplotlib.offsetbox import AnchoredText\n",
    "import seaborn as sns"
   ]
  },
  {
   "cell_type": "markdown",
   "id": "30d4c0b9-92ce-4487-800f-626a9c8440be",
   "metadata": {},
   "source": [
    "#### Generate Bed files for HOMER motif anlaysis"
   ]
  },
  {
   "cell_type": "code",
   "execution_count": null,
   "id": "43f1d1c3-a35c-4142-a190-c89042c2f2ab",
   "metadata": {},
   "outputs": [],
   "source": [
    "out_dir = \"./Figure_4/\""
   ]
  },
  {
   "cell_type": "code",
   "execution_count": null,
   "id": "3318f1c9-d42d-440c-8b5f-6047566e5f41",
   "metadata": {},
   "outputs": [],
   "source": [
    "ILC_clust_data = pd.read_csv(f\"{out_dir}Fig4b_ILC_clust_data.txt\",\n",
    "                            sep = '\\t',\n",
    "                            index_col= \"peakID\")"
   ]
  },
  {
   "cell_type": "code",
   "execution_count": null,
   "id": "1ca23a6b-652d-47aa-9610-52be17d0d865",
   "metadata": {},
   "outputs": [],
   "source": [
    "ILC2_peaks = ILC_clust_data[ILC_clust_data['log2FoldChange'] > 0]\n",
    "\n",
    "ILC2_peaks.to_csv(f'{out_dir}hILC2-specific_ATAC_peaks.bed',\n",
    "                 sep = '\\t',\n",
    "                 columns = ['chr','start','end'],\n",
    "                 header = None,\n",
    "                 index = False)\n",
    "\n",
    "pc_hILC2_peaks = ILC_clust_data[ILC_clust_data['log2FoldChange'] < 0]\n",
    "\n",
    "pc_hILC2_peaks.to_csv(f'{out_dir}pc-hILC2-specific_ATAC_peaks.bed',\n",
    "                 sep = '\\t',\n",
    "                 columns = ['chr','start','end'],\n",
    "                 header = None,\n",
    "                 index = False)"
   ]
  },
  {
   "cell_type": "code",
   "execution_count": null,
   "id": "91198897-9324-4483-a769-139040c7b7b8",
   "metadata": {},
   "outputs": [],
   "source": [
    "ILC_deseq_unchanged = pd.read_csv(f'{out_dir}hILC2_pc-hILC2_deseq2_results.txt',\n",
    "                        sep = '\\t',\n",
    "                       index_col = \"Unnamed: 0\")\n",
    "\n",
    "ILC_deseq_unchanged = ILC_deseq_unchanged[ILC_deseq_unchanged['padj'] >= 0.05]\n",
    "\n",
    "ILC_union_bed = pd.read_csv(f'{out_dir}pc-hILC2_hILC2_union_200bp.bed',\n",
    "                            sep = '\\t',\n",
    "                           index_col = 'peakName')\n",
    "\n",
    "ILC_deseq_unchanged.join(ILC_union_bed).to_csv(f'{out_dir}hILC2_pc-hILC2_unchanged_ATAC_peaks.bed',\n",
    "                                     sep = '\\t',\n",
    "                                     header = None,\n",
    "                                     index = False,\n",
    "                                     columns = ['Chr', 'Start','End'])"
   ]
  },
  {
   "cell_type": "code",
   "execution_count": null,
   "id": "b45618be-1250-4c5a-ac4f-e819bb2e52d9",
   "metadata": {},
   "outputs": [],
   "source": [
    "hILC2_peakFile = f'{out_dir}hILC2-specific_ATAC_peaks.bed'\n",
    "\n",
    "pc_hILC2_peakFile = f'{out_dir}pc-hILC2-specific_ATAC_peaks.bed'\n",
    "\n",
    "background_peakFile = f'{out_dir}hILC2_pc-hILC2_unchanged_ATAC_peaks.bed'\n"
   ]
  },
  {
   "cell_type": "markdown",
   "id": "59ca7793-5357-40d4-9558-70ca6adaf990",
   "metadata": {},
   "source": [
    "#### Motifs at open ATAC peaks in hILC2s"
   ]
  },
  {
   "cell_type": "code",
   "execution_count": null,
   "id": "e807deb0-5813-493b-bf44-ac5cd62ce624",
   "metadata": {},
   "outputs": [],
   "source": [
    "%%bash -s \"$out_dir\" \"$hILC2_peakFile\" \"$background_peakFile\"\n",
    "\n",
    "findMotifsGenome.pl \\\n",
    "$2 \\\n",
    "hg38 \\\n",
    "$1hILC2-specific_peak_motifs \\\n",
    "-size 200 \\\n",
    "-bg $3 \\\n",
    "-preparse \\\n",
    "-preparsedDir $1preparse_hg38\n"
   ]
  }
 ],
 "metadata": {
  "kernelspec": {
   "display_name": "Python 3 (ipykernel)",
   "language": "python",
   "name": "python3"
  },
  "language_info": {
   "codemirror_mode": {
    "name": "ipython",
    "version": 3
   },
   "file_extension": ".py",
   "mimetype": "text/x-python",
   "name": "python",
   "nbconvert_exporter": "python",
   "pygments_lexer": "ipython3",
   "version": "3.9.7"
  }
 },
 "nbformat": 4,
 "nbformat_minor": 5
}
