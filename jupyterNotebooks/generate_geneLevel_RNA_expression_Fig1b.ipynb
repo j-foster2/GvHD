{
 "cells": [
  {
   "cell_type": "code",
   "execution_count": null,
   "metadata": {},
   "outputs": [],
   "source": [
    "# Create a text file that associates experiment name and path to salmon file"
   ]
  },
  {
   "cell_type": "code",
   "execution_count": null,
   "metadata": {},
   "outputs": [],
   "source": [
    "import pandas as pd\n",
    "import glob\n",
    "import os\n",
    "import datetime\n"
   ]
  },
  {
   "cell_type": "markdown",
   "metadata": {},
   "source": [
    "### Output Directory "
   ]
  },
  {
   "cell_type": "code",
   "execution_count": null,
   "metadata": {},
   "outputs": [],
   "source": [
    "output_dir = './Figure_1/'\n"
   ]
  },
  {
   "cell_type": "markdown",
   "metadata": {},
   "source": [
    "### Collect  sf files"
   ]
  },
  {
   "cell_type": "code",
   "execution_count": null,
   "metadata": {},
   "outputs": [],
   "source": [
    "# Read Bruce et al. transcript level RNA abundance data \n",
    "pathToBruceData = './Bruce_Processed_Data/'\n",
    "\n",
    "bruce_rna_sf = sorted(glob.glob(f'{pathToBruceData}*sf'))\n",
    "\n",
    "# Create text file for conversation of transcript to gene-level RNA abundance values\n",
    "with open(f'{output_dir}bruce_sf_files.txt', 'w') as output:\n",
    "    for file_path in bruce_rna_sf:\n",
    "        output.write(\"%s\\n\" % file_path)\n",
    "\n",
    "# Experiment names \n",
    "exp_names = [os.path.basename(name) for name in bruce_rna_sf]\n",
    "\n",
    "exp_names = [x.replace('.sf', '') for x in exp_names]\n"
   ]
  },
  {
   "cell_type": "markdown",
   "metadata": {},
   "source": [
    "### Format input file for transcript to gene level count data"
   ]
  },
  {
   "cell_type": "code",
   "execution_count": null,
   "metadata": {},
   "outputs": [],
   "source": [
    "ilc_sf_files = pd.read_csv(f'{output_dir}bruce_sf_files.txt', sep = '\\t',header = None)\n",
    "\n",
    "ilc_sf_files['sample_names'] = exp_names\n",
    "\n",
    "ilc_sf_files=ilc_sf_files.rename(columns = {0:'file_paths'})\n",
    "\n",
    "ilc_sf_files.to_csv(f'{output_dir}bruce_sf_files_formatted.txt',sep = '\\t',header = None, index = False, columns = ['sample_names','file_paths'])"
   ]
  }
 ],
 "metadata": {
  "kernelspec": {
   "display_name": "Python 3 (ipykernel)",
   "language": "python",
   "name": "python3"
  },
  "language_info": {
   "codemirror_mode": {
    "name": "ipython",
    "version": 3
   },
   "file_extension": ".py",
   "mimetype": "text/x-python",
   "name": "python",
   "nbconvert_exporter": "python",
   "pygments_lexer": "ipython3",
   "version": "3.9.7"
  }
 },
 "nbformat": 4,
 "nbformat_minor": 4
}
