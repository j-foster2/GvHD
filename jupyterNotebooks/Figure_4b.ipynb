{
 "cells": [
  {
   "cell_type": "code",
   "execution_count": null,
   "id": "f59f49a5-10d7-4c5b-a84c-ee4610cf43d5",
   "metadata": {},
   "outputs": [],
   "source": [
    "import pandas as pd\n",
    "import glob\n",
    "import matplotlib\n",
    "matplotlib.rcParams['pdf.fonttype'] = 42\n",
    "matplotlib.rcParams['ps.fonttype'] = 42\n",
    "import matplotlib.pyplot as plt\n",
    "from matplotlib.offsetbox import AnchoredText\n",
    "import seaborn as sns\n"
   ]
  },
  {
   "cell_type": "markdown",
   "id": "b3a7f72f-68cb-4fd0-82b4-2de160564713",
   "metadata": {},
   "source": [
    "#### Output Directory"
   ]
  },
  {
   "cell_type": "code",
   "execution_count": null,
   "id": "4874e164-3008-4957-b606-12d06ecae02a",
   "metadata": {},
   "outputs": [],
   "source": [
    "#Create Output Dir variable\n",
    "out_dir = \"./Figure_4/\"\n"
   ]
  },
  {
   "cell_type": "code",
   "execution_count": null,
   "id": "31609a68-4a83-4a65-9494-c6431c326436",
   "metadata": {},
   "outputs": [],
   "source": [
    "# Create a BED file for GREAT analysis\n",
    "\n",
    "ILC_deseq = pd.read_csv(f'{out_dir}hILC2_pc-hILC2_deseq2_results_diff_0.05.txt',\n",
    "                        sep = '\\t',\n",
    "                        index_col = \"Unnamed: 0\")\n",
    "\n",
    "ILC_union_bed = pd.read_csv(f'{out_dir}pc-hILC2_hILC2_union_200bp.bed',\n",
    "                            sep = '\\t',\n",
    "                           index_col = 'peakName')\n",
    "\n",
    "ILC_deseq.join(ILC_union_bed).to_csv(f'{out_dir}pc-hILC2_hILC2_differential_ATAC_peaks.bed',\n",
    "                                     sep = '\\t',\n",
    "                                     header = None,\n",
    "                                     index = False,\n",
    "                                     columns = ['Chr', 'Start','End'])\n",
    "\n",
    "ILC_deseq_GREAT = ILC_deseq.assign(peakID = [f'peak{i}' for i in range(ILC_deseq.shape[0])])\n",
    "\n",
    "ILC_deseq_GREAT.join(ILC_union_bed).to_csv(f'{out_dir}pc-hILC2_hILC2_differential_ATAC_peaks_GREAT.bed',\n",
    "                                     sep = '\\t',\n",
    "                                     header = None,\n",
    "                                     index = False,\n",
    "                                     columns = ['Chr', 'Start','End','peakID'])"
   ]
  },
  {
   "cell_type": "code",
   "execution_count": null,
   "id": "a8455359-0a74-4278-8492-651bf4223075",
   "metadata": {},
   "outputs": [],
   "source": [
    "diff_peaks = ILC_deseq.join(ILC_union_bed)\n",
    "#Create ILC2 signature \n",
    "ilc2_sig = diff_peaks[diff_peaks['log2FoldChange'] > 0]\n",
    "\n",
    "ilc2_sig = ilc2_sig.assign(strand = \"*\")\n",
    "\n",
    "ilc2_sig.to_csv(f\"{out_dir}huILC2_ATAC_sig.bed\",\n",
    "               sep = '\\t',\n",
    "               header = None,\n",
    "               index = False,\n",
    "               columns = ['Chr','Start','End','strand'])\n",
    "\n",
    "#Create exILC2 signature\n",
    "exilc2_sig = diff_peaks[diff_peaks['log2FoldChange'] < 0]\n",
    "\n",
    "exilc2_sig = exilc2_sig.assign(strand = \"*\")\n",
    "\n",
    "exilc2_sig.to_csv(f\"{out_dir}huexILC2_ATAC_sig.bed\",\n",
    "               sep = '\\t',\n",
    "               header = None,\n",
    "               index = False,\n",
    "               columns = ['Chr','Start','End','strand'])\n",
    "\n"
   ]
  },
  {
   "cell_type": "code",
   "execution_count": null,
   "id": "8dbae2da-290d-40bd-93c3-8ce585c883e2",
   "metadata": {},
   "outputs": [],
   "source": [
    "ILC2_bw = sorted(glob.glob('./processed_data/hILC2_ATAC_rep*bw'))\n",
    "\n",
    "pcILC2_bw = sorted(glob.glob('./processed_data/pc-hILC2_ATAC_rep*bw'))\n",
    "\n",
    "fn_chip_bw =   ILC2_bw + pcILC2_bw\n",
    "\n",
    "#Convert bigWig file name list to space delimited string\n",
    "str_fn_chip_bw = \" \".join(fn_chip_bw)\n",
    "\n",
    "#Gather experiment names \n",
    "exp_names = [\"hILC2_rep1\", \"hILC2_rep2\",\n",
    "            \"pc-hILC2_rep1\", \"pc-hILC2_rep2\"]\n",
    "\n",
    "#Convert experiment names list to space delimited string\n",
    "str_exp_names = \" \".join(exp_names)\n"
   ]
  },
  {
   "cell_type": "code",
   "execution_count": null,
   "id": "31d64706-7602-421b-91c5-6835773fe4a4",
   "metadata": {},
   "outputs": [],
   "source": [
    "# hILC2/pc-hILC2 union set\n",
    "ILC_diff_peak_bed = f'{out_dir}pc-hILC2_hILC2_differential_ATAC_peaks.bed'\n"
   ]
  },
  {
   "cell_type": "code",
   "execution_count": null,
   "id": "e215d772-0e6e-4582-9826-4fc8c86fa8f4",
   "metadata": {},
   "outputs": [],
   "source": [
    "%%bash\n",
    "\n",
    "deeptools --version\n"
   ]
  },
  {
   "cell_type": "code",
   "execution_count": null,
   "id": "da5c18bd-dd68-42f5-bc8c-278e34d8fb61",
   "metadata": {},
   "outputs": [],
   "source": [
    "%%bash -s  \"$str_fn_chip_bw\" \"$str_exp_names\" \"$ILC_diff_peak_bed\" \"$out_dir\"\n",
    "\n",
    "\n",
    "multiBigwigSummary BED-file \\\n",
    "--bwfiles $1 \\\n",
    "--BED $3 \\\n",
    "--labels $2 \\\n",
    "--outFileName $4pcILC2_ILC2_diff_peaks_openChromatin_Signal.npz \\\n",
    "--outRawCounts $4pcILC2_ILC2_diff_peaks_openChromatin_Signal.tab \\\n",
    "-p 4\n"
   ]
  },
  {
   "cell_type": "markdown",
   "id": "32f19630-1f77-4d95-92ac-34868b0267c5",
   "metadata": {},
   "source": [
    "### Hierarchical Clustering of mILC2 mExILC2 Signature ATAC Peaks"
   ]
  },
  {
   "cell_type": "code",
   "execution_count": null,
   "id": "389b0cd1-ba47-4776-9c21-c38ef2797c30",
   "metadata": {},
   "outputs": [],
   "source": [
    "ILC_peak_signal = pd.read_csv(f'{out_dir}pcILC2_ILC2_diff_peaks_openChromatin_Signal.tab',\n",
    "                                  sep = '\\t',\n",
    "                                  names = ['chr','start','end'] + exp_names,\n",
    "                                 header = 0)\n"
   ]
  },
  {
   "cell_type": "markdown",
   "id": "9ab8775e-ba36-48a7-a248-84d671a3a9cc",
   "metadata": {},
   "source": [
    "#### Annotate ATAC peaks with proximal genes (GREAT)\n",
    "1. hILC2_pc-hILC2_GREAT_basalPlusExtension.txt was run through GREAT online portal \n",
    "    1. Parameters:\n",
    "        1. Species Assembly: Human: GRCh38 (UCSC hg38, Dec. 2013)\n",
    "        2. Associating genomic regions with genes: Basal plus extension \n",
    "            1. Proximal 5.0 kb\n",
    "            2. Upstream 1.0 kb\n",
    "            3. Distal 1000 kb\n",
    "        3. Include curated regulatory domains = True\n",
    "        "
   ]
  },
  {
   "cell_type": "code",
   "execution_count": null,
   "id": "5c733796-5b19-44c3-86f8-2fa09150f56b",
   "metadata": {},
   "outputs": [],
   "source": [
    "# Annotate the deepTools matrix with proximal genes \n",
    "\n",
    "file = './greatData/hILC2_pc-hILC2_GREAT_basalPlusExtension.txt'\n",
    "\n",
    "ilc_diff_peaks = pd.read_csv(file, sep = '\\t')\n",
    "\n",
    "ilc_diff_peaks.columns = ['peakNAME', 'gene_dist', 'association_rule']\n",
    "\n",
    "ilc_diff_peaks.drop(columns=['association_rule'], inplace=True)\n",
    "\n",
    "#Book Keeping\n",
    "print('Number ATAC Peaks not associated with gene: {}'.\n",
    "      format(ilc_diff_peaks[ilc_diff_peaks['gene_dist'].str.contains('NONE')].shape[0]))\n",
    "\n",
    "#Drop ROE that have no associated gene\n",
    "ilc_diff_peaks = ilc_diff_peaks[~ilc_diff_peaks['gene_dist'].str.contains('NONE')]\n",
    "\n",
    "ilc_diff_peaks[['geneName', 'dist']] = ilc_diff_peaks['gene_dist'].str.split(\" \", n = 1,expand = True)\n",
    "\n",
    "ilc_diff_peaks.drop(columns=['gene_dist'], inplace=True)\n",
    "\n",
    "#Handles situation where there are multiple genes for a given ROE\n",
    "if ilc_diff_peaks.loc[ilc_diff_peaks['dist'].str.contains(\",\"),'dist'].empty != True: \n",
    "    ilc_diff_peaks.loc[ilc_diff_peaks['dist'].str.contains(\",\"),'dist'] =  ilc_diff_peaks.loc[ilc_diff_peaks['dist'].str.contains(\",\"),'dist'].tolist()[0].split(\",\")[0]\n",
    "    \n",
    "    #Isolate the distance value to nearest gene\n",
    "    ilc_diff_peaks['dist'] = ilc_diff_peaks['dist'].str.lstrip('(+(-').str.rstrip(' )')\n",
    "\n",
    "    #Type cast Distance to nearest gene as int64\n",
    "    ilc_diff_peaks['dist'] = ilc_diff_peaks['dist'].astype('int64')\n",
    "else:   \n",
    "   #Isolate the distance value to nearest gene\n",
    "    ilc_diff_peaks['dist'] = ilc_diff_peaks['dist'].str.lstrip('(+(-').str.rstrip(' )')\n",
    "\n",
    "    #Type cast Distance to nearest gene as int64\n",
    "    ilc_diff_peaks['dist'] = ilc_diff_peaks['dist'].astype('int64')\n",
    "\n"
   ]
  },
  {
   "cell_type": "code",
   "execution_count": null,
   "id": "63e0edfb-98a1-4bae-9b6f-9eaa9654c90a",
   "metadata": {},
   "outputs": [],
   "source": [
    "# Annotate ATAC signal matrix with proximal gene Names\n",
    "ILC_peak_singal = ILC_peak_signal.set_index([\"chr\",\"start\",\"end\"])\n",
    "\n",
    "# Add coordinates to the DESeq2 results (ILC2_)\n",
    "ILC_deseq_GREAT = ILC_deseq_GREAT.join(ILC_union_bed).reset_index().rename(columns = {\"Chr\":\"chr\", \"Start\":\"start\", \"End\":\"end\"}).set_index([\"chr\",\"start\",\"end\"])\n",
    "\n",
    "#Add unique peak IDs to dataFrame\n",
    "ILC_clust_data = ILC_peak_singal.join(ILC_deseq_GREAT).reset_index().set_index(\"peakID\")\n",
    "\n",
    "#Add gene names to df\n",
    "ILC_clust_data = ILC_clust_data.join(ilc_diff_peaks.set_index(\"peakNAME\"))\n",
    "\n"
   ]
  },
  {
   "cell_type": "code",
   "execution_count": null,
   "id": "498990e5-f418-4af1-bd6e-4aeb09f16232",
   "metadata": {},
   "outputs": [],
   "source": [
    "#Create Matrix with proximal gene set as index\n",
    "ILC_clust_matrix = ILC_clust_data.reset_index().set_index(\"geneName\").loc[:,\"hILC2_rep1\":\"pc-hILC2_rep2\"]\n"
   ]
  },
  {
   "cell_type": "code",
   "execution_count": null,
   "id": "5c586320-9c6e-4f46-8c2b-de4b250979e1",
   "metadata": {},
   "outputs": [],
   "source": [
    "#Reorder the Matrix (for plotting)\n",
    "ILC_clust_matrix = ILC_clust_matrix[[\"hILC2_rep1\", \"hILC2_rep2\",\"pc-hILC2_rep1\", \"pc-hILC2_rep2\"]]\n"
   ]
  },
  {
   "cell_type": "markdown",
   "id": "c89c6579-d573-4cf4-986f-1b3bcbcdf713",
   "metadata": {},
   "source": [
    "#### Generate Plot"
   ]
  },
  {
   "cell_type": "code",
   "execution_count": null,
   "id": "e1998420-b2ee-42e5-9f4d-d9b4432f004f",
   "metadata": {},
   "outputs": [],
   "source": [
    "ilc_clustmap = sns.clustermap(ILC_clust_matrix,\n",
    "              z_score=0, method=\"average\",\n",
    "              cmap = sns.diverging_palette(230, 50, as_cmap=True),\n",
    "              col_cluster = False,\n",
    "              yticklabels=False,\n",
    "              figsize = (5,9),\n",
    "              cbar_pos=(1., 0.1, 0.04, 0.18))\n",
    "\n",
    "plt.savefig(f'{out_dir}Fig4b_ILC2_pcILC2_differential_ATAC_clusterMap.pdf',\n",
    "            bbox_inches=\"tight\",\n",
    "            transparent=True)\n"
   ]
  },
  {
   "cell_type": "code",
   "execution_count": null,
   "id": "a7f389e1-c468-47ff-b5a9-ec170558d385",
   "metadata": {},
   "outputs": [],
   "source": [
    "# Save data frame used for heatmap\n",
    "ILC_clust_data.to_csv(f\"{out_dir}Fig4b_ILC_clust_data.txt\",\n",
    "                     sep = '\\t')"
   ]
  }
 ],
 "metadata": {
  "kernelspec": {
   "display_name": "Python 3 (ipykernel)",
   "language": "python",
   "name": "python3"
  },
  "language_info": {
   "codemirror_mode": {
    "name": "ipython",
    "version": 3
   },
   "file_extension": ".py",
   "mimetype": "text/x-python",
   "name": "python",
   "nbconvert_exporter": "python",
   "pygments_lexer": "ipython3",
   "version": "3.9.7"
  }
 },
 "nbformat": 4,
 "nbformat_minor": 5
}
