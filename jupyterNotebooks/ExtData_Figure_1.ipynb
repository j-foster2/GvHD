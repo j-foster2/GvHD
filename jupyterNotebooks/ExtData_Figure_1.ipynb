{
 "cells": [
  {
   "cell_type": "code",
   "execution_count": null,
   "id": "6010bb64-5fae-45cb-827d-cf9e8e3ff7e2",
   "metadata": {},
   "outputs": [],
   "source": [
    "# Performs hierarchical clustering on H3K4me3 signal at differential TSS across ILCs\n",
    "#\n",
    "# Generates plot for Extended Data Figure 1c-e"
   ]
  },
  {
   "cell_type": "code",
   "execution_count": null,
   "id": "f738d030-aab1-470b-8676-815270b76449",
   "metadata": {},
   "outputs": [],
   "source": [
    "import pandas as pd\n",
    "import numpy as np\n",
    "import glob\n",
    "import matplotlib\n",
    "matplotlib.rcParams['pdf.fonttype'] = 42\n",
    "matplotlib.rcParams['ps.fonttype'] = 42\n",
    "import matplotlib.pyplot as plt\n",
    "from matplotlib.offsetbox import AnchoredText\n",
    "import seaborn as sns\n",
    "from scipy.cluster import hierarchy\n",
    "from scipy.cluster.hierarchy import dendrogram\n",
    "from sklearn import preprocessing\n",
    "from scipy.cluster.hierarchy import fcluster\n",
    "from distinctipy import distinctipy\n",
    "from scipy.stats import mannwhitneyu\n"
   ]
  },
  {
   "cell_type": "markdown",
   "id": "d9dfbd33-0796-4d24-9e14-47b4534f03f2",
   "metadata": {},
   "source": [
    "### Output Directory"
   ]
  },
  {
   "cell_type": "code",
   "execution_count": null,
   "id": "1185626a-4ed4-4096-aaf8-7669890fd403",
   "metadata": {},
   "outputs": [],
   "source": [
    "# Create Output Dir variable\n",
    "output_dir = './Figure_1/'\n"
   ]
  },
  {
   "cell_type": "markdown",
   "id": "76e043a5-0b73-4362-80c4-b02ff8a5d5c0",
   "metadata": {},
   "source": [
    "### Generate BED file of TSSs with differential H3K4me3 across ILCs"
   ]
  },
  {
   "cell_type": "code",
   "execution_count": null,
   "id": "587f9b1f-60f3-4773-88e5-1b1db1e68129",
   "metadata": {},
   "outputs": [],
   "source": [
    "# Read ILC1 DESeq2 output\n",
    "ILC_LRT_deseq2 = pd.read_csv(f'{output_dir}ILC_LRT_deseq2_results.txt',\n",
    "                         sep = '\\t')\n",
    "\n",
    "# Format gene name column\n",
    "ILC_LRT_deseq2 = ILC_LRT_deseq2.rename(columns = {\"Unnamed: 0\":\"geneName\"})\n",
    "\n",
    "# Set index to gene names\n",
    "ILC_LRT_deseq2 = ILC_LRT_deseq2.set_index(\"geneName\")\n",
    "\n",
    "# Filter for TSSs with significantly differential H3K4me3 signal across ILCs (GBA) \n",
    "ILC_LRT_deseq2 = ILC_LRT_deseq2[(ILC_LRT_deseq2['padj'] <= 0.05)].sort_values(by = 'baseMean', ascending = False)\n",
    "\n",
    "# Read RefSeq BED of all TSSs (including 300 bp upstream and 500 downstream)\n",
    "refseq_bed = pd.read_csv('./Figure_1/refseq_promotor.bed',\\\n",
    "                        sep='\\t',\n",
    "                        header=0,\n",
    "                        names = ['chr','start','end','geneName'],\n",
    "                        index_col = 'geneName')\n",
    "\n",
    "# Merge RefSeq BED and DESeq2 results\n",
    "ILC_LRT_deseq2 = ILC_LRT_deseq2.join(refseq_bed)\n",
    "\n",
    "# Write BED file of differnetial TSSs\n",
    "ILC_LRT_deseq2.reset_index().to_csv(f'{output_dir}ILC_LRT_significant_TSSs.bed',\n",
    "                   sep = '\\t',\n",
    "                   columns = ['chr','start','end','geneName'],\n",
    "                  index = False,\n",
    "                  header = None)"
   ]
  },
  {
   "cell_type": "markdown",
   "id": "67ce8760-7a2d-4135-8056-468eca8734c0",
   "metadata": {},
   "source": [
    "### Calculate H3K4me3 Signal at TSSs with differential H3K4me3 across ILCs"
   ]
  },
  {
   "cell_type": "code",
   "execution_count": null,
   "id": "b94a4acc-fba0-4cd4-835f-ce998489f595",
   "metadata": {},
   "outputs": [],
   "source": [
    "# Store bigWig file names for all GBA ILC H3K4me3 ChIP-seq data\n",
    "gba_k4me3_bw = sorted(glob.glob('./processed_data/blfILC*GBA*bw'))\n",
    "\n",
    "#Convert bigWig file name list to space delimited string\n",
    "str_gba_k4me3_bw = \" \".join(gba_k4me3_bw)\n",
    "\n",
    "#Gather experiment names \n",
    "exp_names = [\"ILC1_GBA_H3K4me3_rep1\", \"ILC1_GBA_H3K4me3_rep2\",\n",
    "             \"ILC2_GBA_H3K4me3_rep1\", \"ILC2_GBA_H3K4me3_rep2\",\n",
    "             \"ILC3_GBA_H3K4me3_rep1\", \"ILC3_GBA_H3K4me3_rep2\"]\n",
    "\n",
    "#Convert experiment names list to space delimited string\n",
    "str_exp_names = \" \".join(exp_names)\n"
   ]
  },
  {
   "cell_type": "code",
   "execution_count": null,
   "id": "8196a559-863d-4e3f-995b-2d8f321c5d8e",
   "metadata": {},
   "outputs": [],
   "source": [
    "# Store path to BED of TSSs with differential H3K4me3 across ILCs \n",
    "ILC_LRT_TSS_bed = f'{output_dir}ILC_LRT_significant_TSSs.bed'\n"
   ]
  },
  {
   "cell_type": "code",
   "execution_count": null,
   "id": "7f1a61cc-0577-4db5-8866-cc41877e4ec7",
   "metadata": {},
   "outputs": [],
   "source": [
    "%%bash -s  \"$str_gba_k4me3_bw\" \"$str_exp_names\" \"$ILC_LRT_TSS_bed\" \"$output_dir\"\n",
    "\n",
    "multiBigwigSummary BED-file \\\n",
    "--bwfiles $1 \\\n",
    "--BED $3 \\\n",
    "--labels $2 \\\n",
    "--outFileName $4GBA_ILC_H3K4me3_sig_TSSs.npz \\\n",
    "--outRawCounts $4GBA_ILC2_H3K4me3_sig_TSSs.tab \\\n",
    "-p 4"
   ]
  },
  {
   "cell_type": "markdown",
   "id": "df366594-e6a2-49a7-a15f-015793f77007",
   "metadata": {},
   "source": [
    "### Identification of ILC1 and ILC2 specific k4me3-marked TSS"
   ]
  },
  {
   "cell_type": "code",
   "execution_count": null,
   "id": "d7e36b27-eb29-4ee7-8500-8755219ff095",
   "metadata": {},
   "outputs": [],
   "source": [
    "ILC_K4me3_TSS_data = pd.read_csv(f'{output_dir}GBA_ILC2_H3K4me3_sig_TSSs.tab', \n",
    "            sep = '\\t',\n",
    "            names = exp_names,\n",
    "           header = 0).reset_index(drop = True)\n"
   ]
  },
  {
   "cell_type": "code",
   "execution_count": null,
   "id": "e4809e6c-0083-4128-b9ad-527cb4124f0b",
   "metadata": {},
   "outputs": [],
   "source": [
    "# Calculate linkage matrix\n",
    "K4me3_scaled_data = preprocessing.scale(ILC_K4me3_TSS_data)\n",
    "\n",
    "Z = hierarchy.linkage(K4me3_scaled_data, method='average')\n",
    "\n",
    "# Plot \n",
    "plt.figure()\n",
    "\n",
    "plt.title(\"Dendrogram\")\n",
    "\n",
    "# Dendrogram plotting using linkage matrix\n",
    "dendrogram2 = hierarchy.dendrogram(Z)"
   ]
  },
  {
   "cell_type": "code",
   "execution_count": null,
   "id": "a3e42739-55ee-4aed-b050-974bbe3d2bd1",
   "metadata": {},
   "outputs": [],
   "source": [
    "# Source of fancy_dendrogram function \n",
    "# https://joernhees.de/blog/2015/08/26/scipy-hierarchical-clustering-and-dendrogram-tutorial/\n",
    "\n",
    "def fancy_dendrogram(*args, **kwargs):\n",
    "    max_d = kwargs.pop('max_d', None)\n",
    "    if max_d and 'color_threshold' not in kwargs:\n",
    "        kwargs['color_threshold'] = max_d\n",
    "    annotate_above = kwargs.pop('annotate_above', 0)\n",
    "\n",
    "    ddata = dendrogram(*args, **kwargs)\n",
    "\n",
    "    if not kwargs.get('no_plot', False):\n",
    "        plt.title('Hierarchical Clustering Dendrogram (truncated)')\n",
    "        plt.xlabel('sample index or (cluster size)')\n",
    "        plt.ylabel('distance')\n",
    "        for i, d, c in zip(ddata['icoord'], ddata['dcoord'], ddata['color_list']):\n",
    "            x = 0.5 * sum(i[1:3])\n",
    "            y = d[1]\n",
    "            if y > annotate_above:\n",
    "                plt.plot(x, y, 'o', c=c)\n",
    "                plt.annotate(\"%.3g\" % y, (x, y), xytext=(0, -5),\n",
    "                             textcoords='offset points',\n",
    "                             va='top', ha='center')\n",
    "        if max_d:\n",
    "            plt.axhline(y=max_d, c='k')\n",
    "    return ddata"
   ]
  },
  {
   "cell_type": "code",
   "execution_count": null,
   "id": "9ff0bb28-04a6-4c6e-898c-b5011c4f0e60",
   "metadata": {},
   "outputs": [],
   "source": [
    "# Set Parameter to cut dendrogram\n",
    "max_d = 1.7\n"
   ]
  },
  {
   "cell_type": "code",
   "execution_count": null,
   "id": "d328bd6b-11b1-4b17-a259-a4c2f318206b",
   "metadata": {},
   "outputs": [],
   "source": [
    "fancy_dendrogram(\n",
    "    Z,\n",
    "    truncate_mode='lastp',\n",
    "    p=12,\n",
    "    leaf_rotation=90.,\n",
    "    leaf_font_size=12.,\n",
    "    show_contracted=True,\n",
    "    annotate_above=10,\n",
    "    max_d=max_d,  # plot a horizontal cut-off line\n",
    ")\n",
    "plt.show()"
   ]
  },
  {
   "cell_type": "code",
   "execution_count": null,
   "id": "da88b1a6-4c1f-4082-b0b6-f2b18412275a",
   "metadata": {},
   "outputs": [],
   "source": [
    "# Cluster asssignment for each differential TSS\n",
    "clusters = fcluster(Z, max_d, criterion='distance')\n",
    "\n",
    "# Read normalized H3K4me3 at differential TSSs\n",
    "ILC_K4me3_TSS_data_clust = pd.read_csv(f'{output_dir}GBA_ILC2_H3K4me3_sig_TSSs.tab', \n",
    "            sep = '\\t',\n",
    "            names = exp_names,\n",
    "           header = 0)\n",
    "\n",
    "# Assign each differential TSSs to a cluster\n",
    "ILC_K4me3_TSS_data_clust = ILC_K4me3_TSS_data_clust.assign(clusters = clusters)\n"
   ]
  },
  {
   "cell_type": "code",
   "execution_count": null,
   "id": "6d45661d-b021-49aa-b700-3d4c0a197aa6",
   "metadata": {},
   "outputs": [],
   "source": [
    "# Unique Cluster names\n",
    "cluster_names = np.unique(clusters)\n",
    "\n",
    "#Isolate the promoters that are assigned to each cluster\n",
    "cluster_df = [ILC_K4me3_TSS_data_clust[ILC_K4me3_TSS_data_clust['clusters'] == i] for i in cluster_names]\n",
    "\n",
    "# Wide to Long DF conversion \n",
    "cluster_df_long = [pd.melt(df, id_vars=['clusters'], var_name='cellType', value_name= 'k4me3_signal') for df in cluster_df]\n"
   ]
  },
  {
   "cell_type": "markdown",
   "id": "04bd0eff-10c2-4038-8126-12a16a60a25d",
   "metadata": {},
   "source": [
    "#### Heatmap of H3K4me3 Clusters"
   ]
  },
  {
   "cell_type": "code",
   "execution_count": null,
   "id": "8ea17600-b2d5-4f9c-8647-04df187709bf",
   "metadata": {},
   "outputs": [],
   "source": [
    "cluster_data = pd.concat(cluster_df)\n",
    "\n",
    "# Isolate clusters\n",
    "clusters = cluster_data.pop(\"clusters\")\n",
    "\n",
    "# number of colours to generate\n",
    "N = len(clusters.unique())\n",
    "\n",
    "# generate N visually distinct colours\n",
    "colors = distinctipy.get_colors(N, pastel_factor=1)\n"
   ]
  },
  {
   "cell_type": "code",
   "execution_count": null,
   "id": "dcc24888-391b-43d7-b5f1-428ab0841b34",
   "metadata": {},
   "outputs": [],
   "source": [
    "# Map Colors to clusters in Dataframe\n",
    "lut = dict(zip(clusters.unique(), colors))\n",
    "\n",
    "row_colors = clusters.map(lut)"
   ]
  },
  {
   "cell_type": "code",
   "execution_count": null,
   "id": "302dd4e4-f3c7-433c-95d1-7599bad42e4b",
   "metadata": {},
   "outputs": [],
   "source": [
    "\n",
    "g = sns.clustermap(cluster_data.loc[:,\"ILC1_GBA_H3K4me3_rep1\":\"ILC2_GBA_H3K4me3_rep2\"],\n",
    "              row_cluster = False,\n",
    "              col_cluster = False,\n",
    "              row_colors=row_colors,\n",
    "               robust=True,\n",
    "               cmap = sns.cubehelix_palette(start=2.5, rot=0, dark=.25, light=.95, reverse=False, as_cmap=True),\n",
    "              yticklabels  = False,\n",
    "              figsize = (5,9),\n",
    "               cbar_pos=(1, 0.65, 0.04, 0.18),\n",
    "              cbar_kws={'ticks': [0.0, 3, 6]});\n",
    "\n",
    "from matplotlib.patches import Patch\n",
    "handles = [Patch(facecolor=lut[name]) for name in lut]\n",
    "\n",
    "plt.legend(handles, lut, title='Clusters',\n",
    "           bbox_to_anchor=(1.1, 0.62), bbox_transform=plt.gcf().transFigure, loc='upper right',frameon=False);\n",
    "\n",
    "#Remove y label\n",
    "ax = g.ax_heatmap\n",
    "ax.set_ylabel(\"\");\n",
    "\n",
    "plt.savefig(f'{output_dir}ExtData_Fig1c_GBA_H3K4me3_differential_TSSs.pdf',\n",
    "            bbox_inches=\"tight\",\n",
    "            transparent=True)\n",
    "              "
   ]
  },
  {
   "cell_type": "markdown",
   "id": "ee090d2a-e4b9-4823-9398-faa1f02c2b97",
   "metadata": {},
   "source": [
    "#### Boxplots of H3K4me3 signals Across identified clusters"
   ]
  },
  {
   "cell_type": "code",
   "execution_count": null,
   "id": "79ace82f-b71c-453a-bfa8-d47790068f2e",
   "metadata": {},
   "outputs": [],
   "source": [
    "# Plot parameters\n",
    "nrow = 2\n",
    "\n",
    "ncol = 5\n",
    "\n",
    "x_tickLabels = [string.split(\"_\", maxsplit=1)[0] for string in exp_names ]\n",
    "\n",
    "# Boxplot of H3K4me3 signal for each Replicate of ILC and for each cluster\n",
    "fig, ax = plt.subplots(nrows=nrow,\n",
    "                       ncols=ncol,\n",
    "                      figsize = (16,6))\n",
    "\n",
    "for df, cluster, ax in zip(cluster_df_long, cluster_names, ax.reshape(-1)):\n",
    "    \n",
    "    sns.boxplot(x=\"cellType\", y=\"k4me3_signal\", data=df, ax =ax)\n",
    "    \n",
    "    ax.set_xticklabels(x_tickLabels)\n",
    "    \n",
    "    ax.set_xlabel(\"\")\n",
    "    \n",
    "    ax.set_title(f'Cluster {cluster}')\n",
    "    \n",
    "\n",
    "sns.despine()\n",
    "\n",
    "fig.tight_layout()\n"
   ]
  },
  {
   "cell_type": "code",
   "execution_count": null,
   "id": "455ed974-00f6-463d-a523-75fe4afe6ce9",
   "metadata": {},
   "outputs": [],
   "source": [
    "#Isolate Cluster 3 and 4 that represent the ILC1 and ILC2 specific promoters\n",
    "ilc1_ilc2_promoters = cluster_df_long[2:4]\n",
    "\n",
    "#Remove ILC3 signal\n",
    "ilc1_ilc2_promoters = [df[~df['cellType'].str.contains(\"ILC3\")] for df in ilc1_ilc2_promoters]\n",
    "\n",
    "#plot distribution of promoter-K4me3 signal \n",
    "nrow = 1\n",
    "\n",
    "ncol = 2\n",
    "\n",
    "x_tickLabels = [string.split(\"_\", maxsplit=1)[0] for string in exp_names]\n",
    "\n",
    "x_tickLabels = x_tickLabels[:4]\n",
    "\n",
    "cluster_names = [\"ILC1-specific \\n H3K4me3 marked promoters\",\n",
    "              \"ILC2-specific \\n H3K4me3 marked promoters\"]\n",
    "\n",
    "fig, ax = plt.subplots(nrows=nrow,\n",
    "                       ncols=ncol,\n",
    "                      figsize = (8,4))\n",
    "\n",
    "for df, cluster, ax in zip(ilc1_ilc2_promoters, cluster_names, ax.reshape(-1)):\n",
    "    \n",
    "      \n",
    "    sns.boxplot(x=\"cellType\",\n",
    "                y=\"k4me3_signal\",\n",
    "                data=df,\n",
    "                ax =ax,\n",
    "                linewidth = 0.5)\n",
    "\n",
    "    ax.set_xticklabels(x_tickLabels)\n",
    "\n",
    "    ax.set_xlabel(\"\")\n",
    "\n",
    "    ax.set_title(f'Cluster {cluster}')\n",
    "   \n",
    "    sns.despine()\n",
    "\n",
    "fig.tight_layout()\n",
    "\n",
    "plt.savefig(f'{output_dir}ExtData_Fig1d_Fig1e_GBA_H3K4me3_differential_TSS_boxplots.pdf',\n",
    "            bbox_inches=\"tight\",\n",
    "            transparent=True)"
   ]
  },
  {
   "cell_type": "markdown",
   "id": "103466c0-eafe-41c7-976d-3fe99e2c7c40",
   "metadata": {},
   "source": [
    "#### Test if difference in H3K4me3 signal is statistically significant between ILC1 and ILC2"
   ]
  },
  {
   "cell_type": "code",
   "execution_count": null,
   "id": "45225871-1a86-4033-b080-982183835cf0",
   "metadata": {},
   "outputs": [],
   "source": [
    "ilc1_cluster_data = pd.pivot(ilc1_ilc2_promoters[0], columns='cellType',values='k4me3_signal')"
   ]
  },
  {
   "cell_type": "code",
   "execution_count": null,
   "id": "af22ff3b-2582-4ab1-9f31-27cad6ac3790",
   "metadata": {},
   "outputs": [],
   "source": [
    "ilc2_cluster_data = pd.pivot(ilc1_ilc2_promoters[1], columns='cellType',values='k4me3_signal')"
   ]
  },
  {
   "cell_type": "code",
   "execution_count": null,
   "id": "58abeb6e-be60-412e-85e1-c0056cf872a4",
   "metadata": {},
   "outputs": [],
   "source": [
    "# ILC1_rep1 vs. ILC2_rep1 at promoters enriched with H3K4me3 in ILC1s\n",
    "mannwhitneyu(x = ilc1_cluster_data['ILC1_GBA_H3K4me3_rep1'],\n",
    "             y = ilc1_cluster_data['ILC2_GBA_H3K4me3_rep1'],\n",
    "             alternative = 'greater',\n",
    "            nan_policy = \"omit\")\n"
   ]
  },
  {
   "cell_type": "code",
   "execution_count": null,
   "id": "69e3711a-fae0-457a-9b02-b024960307e7",
   "metadata": {},
   "outputs": [],
   "source": [
    "# ILC1_rep2 vs. ILC2_rep2 at promoters enriched with H3K4me3 in ILC1s\n",
    "mannwhitneyu(x = ilc1_cluster_data['ILC1_GBA_H3K4me3_rep2'],\n",
    "             y = ilc1_cluster_data['ILC2_GBA_H3K4me3_rep2'],\n",
    "             alternative = 'greater',\n",
    "            nan_policy = \"omit\")\n"
   ]
  },
  {
   "cell_type": "code",
   "execution_count": null,
   "id": "847ebe22-cbfc-4e76-81c2-2191faaa0555",
   "metadata": {},
   "outputs": [],
   "source": [
    "# ILC1_rep1 vs. ILC2_rep1 at promoters enriched with H3K4me3 in ILC2s\n",
    "mannwhitneyu(x = ilc2_cluster_data['ILC1_GBA_H3K4me3_rep1'],\n",
    "             y = ilc2_cluster_data['ILC2_GBA_H3K4me3_rep1'],\n",
    "             alternative = 'less',\n",
    "            nan_policy = \"omit\")\n"
   ]
  },
  {
   "cell_type": "code",
   "execution_count": null,
   "id": "45eb1a3e-ab13-45a6-bad6-ab0a17578044",
   "metadata": {},
   "outputs": [],
   "source": [
    "# ILC1_rep2 vs. ILC2_rep2 at promoters enriched with H3K4me3 in ILC2s\n",
    "mannwhitneyu(x = ilc2_cluster_data['ILC1_GBA_H3K4me3_rep2'],\n",
    "             y = ilc2_cluster_data['ILC2_GBA_H3K4me3_rep2'],\n",
    "             alternative = 'less',\n",
    "            nan_policy = \"omit\")\n"
   ]
  },
  {
   "cell_type": "markdown",
   "id": "e35f202f-2d78-46a9-a550-dc3950085a5f",
   "metadata": {},
   "source": [
    "#### Write BED files for ILC1 and ILC2 specific TSSs"
   ]
  },
  {
   "cell_type": "code",
   "execution_count": null,
   "id": "47bc6c84-284d-49b3-9796-bf6aa64d93e0",
   "metadata": {},
   "outputs": [],
   "source": [
    "\n",
    "\n",
    "#ILC1 signature BED file\n",
    "cluster_df[2].reset_index().to_csv(f'{output_dir}ILC1_specific_k4me3-marked_TSSs.bed',\n",
    "                                   sep = '\\t',\n",
    "                                   columns = ['level_0','level_1','level_2'],\n",
    "                                  index = False,\n",
    "                                  header = None)\n",
    "\n",
    "#ILC2 signature BED file\n",
    "cluster_df[3].reset_index().to_csv(f'{output_dir}ILC2_specific_k4me3-marked_TSSs.bed',\n",
    "                                   sep = '\\t',\n",
    "                                   columns = ['level_0','level_1','level_2'],\n",
    "                                  index = False,\n",
    "                                  header = None)\n",
    "\n",
    "\n"
   ]
  }
 ],
 "metadata": {
  "kernelspec": {
   "display_name": "Python 3 (ipykernel)",
   "language": "python",
   "name": "python3"
  },
  "language_info": {
   "codemirror_mode": {
    "name": "ipython",
    "version": 3
   },
   "file_extension": ".py",
   "mimetype": "text/x-python",
   "name": "python",
   "nbconvert_exporter": "python",
   "pygments_lexer": "ipython3",
   "version": "3.9.7"
  }
 },
 "nbformat": 4,
 "nbformat_minor": 5
}
