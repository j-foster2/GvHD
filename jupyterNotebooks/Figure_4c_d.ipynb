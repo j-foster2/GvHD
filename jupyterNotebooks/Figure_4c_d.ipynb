{
 "cells": [
  {
   "cell_type": "code",
   "execution_count": null,
   "id": "081264ac-5ab2-438a-81aa-d07ddee60107",
   "metadata": {},
   "outputs": [],
   "source": [
    "# Generates Figures 4c-d\n"
   ]
  },
  {
   "cell_type": "code",
   "execution_count": null,
   "id": "03ad3873-4364-4342-80ca-46ef76d46710",
   "metadata": {},
   "outputs": [],
   "source": [
    "import pandas as pd\n",
    "import glob\n",
    "import numpy as np\n",
    "import matplotlib\n",
    "matplotlib.rcParams['pdf.fonttype'] = 42\n",
    "matplotlib.rcParams['ps.fonttype'] = 42\n",
    "import matplotlib.pyplot as plt\n",
    "from matplotlib.offsetbox import AnchoredText\n",
    "import seaborn as sns"
   ]
  },
  {
   "cell_type": "code",
   "execution_count": null,
   "id": "14edb01e-8939-4228-8d92-d7f8106af8ef",
   "metadata": {},
   "outputs": [],
   "source": [
    "out_dir = \"./Figure_4/\""
   ]
  },
  {
   "cell_type": "code",
   "execution_count": null,
   "id": "b3346c7c-a608-46f0-87dc-1f2da49e4985",
   "metadata": {},
   "outputs": [],
   "source": [
    "hILC2_peakFile = f'{out_dir}hILC2-specific_ATAC_peaks.bed'\n",
    "\n",
    "pc_hILC2_peakFile = f'{out_dir}pc-hILC2-specific_ATAC_peaks.bed'\n",
    "\n",
    "background_peakFile = f'{out_dir}hILC2_pc-hILC2_unchanged_ATAC_peaks.bed'\n"
   ]
  },
  {
   "cell_type": "markdown",
   "id": "19be5fd8-1696-4099-9caa-81162d9e5427",
   "metadata": {},
   "source": [
    "#### ATAC signal at GATA3 "
   ]
  },
  {
   "cell_type": "code",
   "execution_count": null,
   "id": "b642a70a-f4ec-4df7-914b-db97ee40b0c0",
   "metadata": {},
   "outputs": [],
   "source": [
    "# GATA3 motif file \n",
    "gata3_motif_file = \"./Figure_4/hILC2-specific_peak_motifs/knownResults/known22.motif\"\n"
   ]
  },
  {
   "cell_type": "code",
   "execution_count": null,
   "id": "12d05bed-23ae-478c-b7ae-4dd001d4e60d",
   "metadata": {},
   "outputs": [],
   "source": [
    "%%bash -s \"$out_dir\" \"$hILC2_peakFile\" \"$gata3_motif_file\"\n",
    "\n",
    "#HOMER version: v4.10.3\n",
    "module load homer;\n",
    "\n",
    "annotatePeaks.pl \\\n",
    "$2 \\\n",
    "hg38 \\\n",
    "-m $3 > $1hILC2-specific_peak_motifs/knownResults/ATAC_peaks_GATA3_motif.txt\n"
   ]
  },
  {
   "cell_type": "code",
   "execution_count": null,
   "id": "26cf1eec-ac44-4c1b-be29-5b9b0953af9b",
   "metadata": {},
   "outputs": [],
   "source": [
    "# Read hILC2 annotated ATAC peak bed file \n",
    "hILC2_motifs = pd.read_csv(\"./Figure_4/hILC2-specific_peak_motifs/knownResults/ATAC_peaks_GATA3_motif.txt\",\n",
    "                         sep = '\\t')"
   ]
  },
  {
   "cell_type": "code",
   "execution_count": null,
   "id": "fe285897-39e1-4e5a-acb6-84a1ca06b891",
   "metadata": {},
   "outputs": [],
   "source": [
    "# Filter for ATAC peaks with GATA3 motif\n",
    "gata3_coord = hILC2_motifs[hILC2_motifs['GATA3(Zf)/iTreg-Gata3-ChIP-Seq(GSE20898)/Homer Distance From Peak(sequence,strand,conservation)'].notnull()]\n",
    "\n",
    "# Filter for genomic coordinates of ATAC peaks with GATA3 motif\n",
    "gata3_coord = gata3_coord[['Chr', 'Start', 'End']]\n",
    "\n",
    "# Write coordinates to bed file\n",
    "\n",
    "gata3_coord.to_csv(f\"{out_dir}hILC2_ATAC_Peaks_with_GATA3_motif.bed\",\n",
    "                  sep = '\\t',\n",
    "                  index = False,\n",
    "                  header = None)\n",
    "\n"
   ]
  },
  {
   "cell_type": "code",
   "execution_count": null,
   "id": "91b99a3d-0005-4151-8e9a-9953e7cf3d16",
   "metadata": {},
   "outputs": [],
   "source": [
    "# Read hILC2 and pc-hILC2 bigWig files\n",
    "hILC2_bw = sorted(glob.glob('./processed_data/hILC2_ATAC_rep*openChromatin.bw'))\n",
    "\n",
    "pc_hILC2_bw = sorted(glob.glob('./processed_data/pc-hILC2_ATAC_rep*openChromatin.bw'))\n",
    "\n",
    "fn_atac_bw = hILC2_bw + pc_hILC2_bw\n",
    "\n",
    "#Convert bigWig file name list to space delimited string\n",
    "str_fn_atac_bw = \" \".join(fn_atac_bw)\n",
    "\n",
    "#Gather experiment names \n",
    "exp_names = ['hILC2_rep1','hILC2_rep2',\n",
    "            'pc-hILC2_rep1','pc-hILC2_rep2']\n",
    "\n",
    "#Convert experiment names list to space delimited string\n",
    "str_exp_names = \" \".join(exp_names)\n"
   ]
  },
  {
   "cell_type": "code",
   "execution_count": null,
   "id": "c47221b0-e442-4b85-ae64-7a019b61a077",
   "metadata": {},
   "outputs": [],
   "source": [
    "# Store BED file of ATAC peaks with GATA3 motif\n",
    "\n",
    "bedWithGata3 = f\"{out_dir}hILC2_ATAC_Peaks_with_GATA3_motif.bed\"\n"
   ]
  },
  {
   "cell_type": "code",
   "execution_count": null,
   "id": "1e3bd5c3-ba4e-41b4-b928-f756d035f1b8",
   "metadata": {},
   "outputs": [],
   "source": [
    "%%bash -s  \"$str_fn_atac_bw\" \"$str_exp_names\" \"$bedWithGata3\" \"$out_dir\"\n",
    "\n",
    "#Define Variables\n",
    "bw_files=$1\n",
    "exp_names=$2\n",
    "bed_file=$3\n",
    "outDir=$4\n",
    "\n",
    "computeMatrix reference-point \\\n",
    "--scoreFileName $bw_files \\\n",
    "--regionsFileName $bed_file \\\n",
    "--beforeRegionStartLength 1000 \\\n",
    "--afterRegionStartLength 1000 \\\n",
    "--referencePoint center \\\n",
    "--samplesLabel $exp_names \\\n",
    "--outFileName $outDir\\hILC2_peaks_with_GATA3Peaks.npz \\\n",
    "--outFileNameMatrix $outDir\\hILC2_peaks_with_GATA3Peaks.txt \\\n",
    "-p 8"
   ]
  },
  {
   "cell_type": "code",
   "execution_count": null,
   "id": "29e657b0-8e1d-49c7-b9b1-0aeadd99ea7a",
   "metadata": {},
   "outputs": [],
   "source": [
    "# Parameters\n",
    "window_size = 100\n",
    "\n",
    "data_division = len(exp_names)\n",
    "\n",
    "\n",
    "# Read normalized ATAC signal at peaks with GATA3 motif\n",
    "atacSignalWithMotif = np.loadtxt(f'{out_dir}hILC2_peaks_with_GATA3Peaks.txt',\n",
    "                                      dtype='float64',\n",
    "                                      skiprows=3)\n",
    "\n",
    "# Split matrix based on number of samples\n",
    "atacSignalWithMotifSplit = np.hsplit(atacSignalWithMotif, data_division)\n",
    "\n",
    "# Columnwise Mean to create average line plot\n",
    "atacSignalMeanGATA3 = [] \n",
    "\n",
    "#used to center the data around appropriate window\n",
    "bp_range = list(range(-window_size, window_size)) \n",
    "\n",
    "for i in range(len(atacSignalWithMotifSplit)):\n",
    "    atacSignalMeanGATA3.append(atacSignalWithMotifSplit[i].mean(axis=0))\n",
    "    \n",
    "    \n",
    "fix, ax = plt.subplots(figsize=(5,5))\n",
    "\n",
    "ax.plot(bp_range,atacSignalMeanGATA3[0], label = 'hILC2_rep1', color = \"#395e73\")\n",
    "ax.plot(bp_range,atacSignalMeanGATA3[1], label = 'hILC2_rep1', color = \"#395e73\", linestyle = \"--\")\n",
    "ax.plot(bp_range,atacSignalMeanGATA3[2], label = 'pc-hILC2_rep1', color = \"#e39a44\")\n",
    "ax.plot(bp_range,atacSignalMeanGATA3[3], label = 'pc-hILC2_rep2', color = \"#e39a44\", linestyle = \"--\")\n",
    "\n",
    "ax.set_ylabel(\"Normalized ATAC Signal\")\n",
    "\n",
    "ax.legend(loc=1, ncol=1, borderaxespad=0)\n",
    "\n",
    "sns.despine()\n",
    "\n",
    "plt.setp((ax), xticks=[-window_size,0,window_size], \n",
    "         xticklabels=['-{}kb'.format(int(window_size/100)),'center','{}kb'.format(int(window_size/100))])\n"
   ]
  },
  {
   "cell_type": "markdown",
   "id": "1325d097-06c4-47bf-9655-d88f2b2f0de4",
   "metadata": {},
   "source": [
    "#### ATAC signal at Tbet (pc-hILC2) "
   ]
  },
  {
   "cell_type": "code",
   "execution_count": null,
   "id": "09de32c5-ffce-4372-99fe-21dbe8245f07",
   "metadata": {},
   "outputs": [],
   "source": [
    "# Tbet motif file \n",
    "Tbet_motif_file = \"./Figure_4/pc_hILC2-specific_peak_motifs/homerResults/motif5.motif\"\n",
    "\n"
   ]
  },
  {
   "cell_type": "code",
   "execution_count": null,
   "id": "e8c48151-2fb7-4ba5-b381-cfd4afe4bb8a",
   "metadata": {},
   "outputs": [],
   "source": [
    "%%bash -s \"$out_dir\" \"$pc_hILC2_peakFile\" \"$Tbet_motif_file\"\n",
    "\n",
    "#HOMER version: v4.10.3\n",
    "module load homer;\n",
    "\n",
    "\n",
    "annotatePeaks.pl \\\n",
    "$2 \\\n",
    "hg38 \\\n",
    "-m $3 > $1pc_hILC2-specific_peak_motifs/homerResults/ATAC_peaks_Tbet_motif.txt\\\n"
   ]
  },
  {
   "cell_type": "code",
   "execution_count": null,
   "id": "5f9b3dc3-ed59-4c1f-b5ba-fb5be64274f9",
   "metadata": {},
   "outputs": [],
   "source": [
    "# Read exILC2 annotated ATAC peak bed file \n",
    "Tbet_motifs = pd.read_csv(\"./Figure_4/pc_hILC2-specific_peak_motifs/homerResults/ATAC_peaks_Tbet_motif.txt\",\n",
    "                         sep = '\\t')"
   ]
  },
  {
   "cell_type": "code",
   "execution_count": null,
   "id": "a26c2421-1643-4137-a83c-98b65b0d119c",
   "metadata": {},
   "outputs": [],
   "source": [
    "# Filter for ATAC peaks with GATA3 motif\n",
    "Tbet_coord = Tbet_motifs[Tbet_motifs['7-YNTMACACCT,BestGuess:Tbet(T-box)/CD8-Tbet-ChIP-Seq(GSE33802)/Homer(0.952) Distance From Peak(sequence,strand,conservation)'].notnull()]\n",
    "\n",
    "# Filter for genomic coordinates of ATAC peaks with GATA3 motif\n",
    "Tbet_coord = Tbet_coord[['Chr', 'Start', 'End']]\n",
    "\n",
    "# Write coordinates to bed file\n",
    "\n",
    "Tbet_coord.to_csv(f\"{out_dir}pc-hILC2_ATAC_Peaks_with_Tbet_motif.bed\",\n",
    "                  sep = '\\t',\n",
    "                  index = False,\n",
    "                  header = None)\n",
    "\n"
   ]
  },
  {
   "cell_type": "code",
   "execution_count": null,
   "id": "50a716b7-bb19-463f-b71b-69c7562f7019",
   "metadata": {},
   "outputs": [],
   "source": [
    "# Read hILC2 and pc-hILC2 bigWig files\n",
    "hILC2_bw = sorted(glob.glob('./processed_data/hILC2_ATAC_rep*openChromatin.bw'))\n",
    "\n",
    "pc_hILC2_bw = sorted(glob.glob('./processed_data/pc-hILC2_ATAC_rep*openChromatin.bw'))\n",
    "\n",
    "fn_atac_bw = hILC2_bw + pc_hILC2_bw\n",
    "\n",
    "#Convert bigWig file name list to space delimited string\n",
    "str_fn_atac_bw = \" \".join(fn_atac_bw)\n",
    "\n",
    "#Gather experiment names \n",
    "exp_names = ['hILC2_rep1','hILC2_rep2',\n",
    "            'pc-hILC2_rep1','pc-hILC2_rep2']\n",
    "\n",
    "#Convert experiment names list to space delimited string\n",
    "str_exp_names = \" \".join(exp_names)\n"
   ]
  },
  {
   "cell_type": "code",
   "execution_count": null,
   "id": "8299b2dd-d17e-4245-b93b-fac57afe88a3",
   "metadata": {},
   "outputs": [],
   "source": [
    "# Store BED file of ATAC peaks with Tbet motif\n",
    "\n",
    "bedWithTbet = f\"{out_dir}pc-hILC2_ATAC_Peaks_with_Tbet_motif.bed\"\n"
   ]
  },
  {
   "cell_type": "code",
   "execution_count": null,
   "id": "ec225f69-13fd-4b7d-b1bc-ef30e9e828be",
   "metadata": {},
   "outputs": [],
   "source": [
    "bedWithTbet"
   ]
  },
  {
   "cell_type": "code",
   "execution_count": null,
   "id": "32b83e39-4460-4186-8c41-648b23b7b648",
   "metadata": {},
   "outputs": [],
   "source": [
    "%%bash -s  \"$str_fn_atac_bw\" \"$str_exp_names\" \"$bedWithTbet\" \"$out_dir\"\n",
    "\n",
    "#Define Variables\n",
    "bw_files=$1\n",
    "exp_names=$2\n",
    "bed_file=$3\n",
    "outDir=$4\n",
    "\n",
    "computeMatrix reference-point \\\n",
    "--scoreFileName $bw_files \\\n",
    "--regionsFileName $bed_file \\\n",
    "--beforeRegionStartLength 1000 \\\n",
    "--afterRegionStartLength 1000 \\\n",
    "--referencePoint center \\\n",
    "--samplesLabel $exp_names \\\n",
    "--outFileName $outDir\\pc_hILC2_peaks_with_TbetPeaks.npz \\\n",
    "--outFileNameMatrix $outDir\\pc_hILC2_peaks_with_TbetPeaks.txt \\\n",
    "-p 8"
   ]
  },
  {
   "cell_type": "code",
   "execution_count": null,
   "id": "83e3bcc2-9f07-47e3-9849-41ae307d2d86",
   "metadata": {},
   "outputs": [],
   "source": [
    "# Parameters\n",
    "window_size = 100\n",
    "\n",
    "data_division = len(exp_names)\n",
    "\n",
    "# Read normalized ATAC signal at peaks with GATA3 motif\n",
    "atacSignalWithMotif = np.loadtxt(f'{out_dir}pc_hILC2_peaks_with_TbetPeaks.txt',\n",
    "                                      dtype='float64',\n",
    "                                      skiprows=3)\n",
    "\n",
    "# Split matrix based on number of samples\n",
    "atacSignalWithMotifSplit = np.hsplit(atacSignalWithMotif, data_division)\n",
    "\n",
    "# Columnwise Mean to create average line plot\n",
    "atacSignalMean = [] \n",
    "\n",
    "#used to center the data around appropriate window\n",
    "bp_range = list(range(-window_size, window_size)) \n",
    "\n",
    "for i in range(len(atacSignalWithMotifSplit)):\n",
    "    atacSignalMean.append(atacSignalWithMotifSplit[i].mean(axis=0))\n",
    "    \n",
    "    \n",
    "fix, ax = plt.subplots(figsize=(5,5))\n",
    "\n",
    "ax.plot(bp_range,atacSignalMean[0], label = 'ILC2_rep1', color = \"#395e73\")\n",
    "ax.plot(bp_range,atacSignalMean[1], label = 'ILC2_rep1', color = \"#395e73\", linestyle = \"dotted\")\n",
    "ax.plot(bp_range,atacSignalMean[2], label = 'exILC2_rep1', color = \"#e39a44\")\n",
    "ax.plot(bp_range,atacSignalMean[3], label = 'exILC2_rep2', color = \"#e39a44\", linestyle = \"dotted\")\n",
    "\n",
    "ax.set_ylabel(\"Normalized ATAC Signal\")\n",
    "\n",
    "ax.legend(loc=1, ncol=1, borderaxespad=0)\n",
    "\n",
    "sns.despine()\n",
    "\n",
    "plt.setp((ax), xticks=[-window_size,0,window_size], \n",
    "         xticklabels=['-{}kb'.format(int(window_size/100)),'center','{}kb'.format(int(window_size/100))])\n"
   ]
  },
  {
   "cell_type": "code",
   "execution_count": null,
   "id": "323f1d23-7459-49c9-a000-b3aa99d8f160",
   "metadata": {},
   "outputs": [],
   "source": [
    "#\n",
    "fix, ax = plt.subplots(1,2,figsize=(10,5), sharey=True)\n",
    "\n",
    "ax[0].plot(bp_range,atacSignalMeanGATA3[0], label = 'ILC2_rep1', color = \"#395e73\")\n",
    "ax[0].plot(bp_range,atacSignalMeanGATA3[1], label = 'ILC2_rep1', color = \"#395e73\", linestyle = \"dotted\")\n",
    "ax[0].plot(bp_range,atacSignalMeanGATA3[2], label = 'exILC2_rep1', color = \"#e39a44\")\n",
    "ax[0].plot(bp_range,atacSignalMeanGATA3[3], label = 'exILC2_rep2', color = \"#e39a44\", linestyle = \"dotted\")\n",
    "\n",
    "\n",
    "ax[0].set_ylabel(\"Normalized ATAC Signal\")\n",
    "\n",
    "plt.setp((ax[0]), xticks=[-window_size,0,window_size], \n",
    "         xticklabels=['-{}kb'.format(int(window_size/100)),'center','{}kb'.format(int(window_size/100))])\n",
    "\n",
    "ax[1].plot(bp_range,atacSignalMean[0], label = 'ILC2_rep1', color = \"#395e73\")\n",
    "ax[1].plot(bp_range,atacSignalMean[1], label = 'ILC2_rep1', color = \"#395e73\", linestyle = \"dotted\")\n",
    "ax[1].plot(bp_range,atacSignalMean[2], label = 'exILC2_rep1', color = \"#e39a44\")\n",
    "ax[1].plot(bp_range,atacSignalMean[3], label = 'exILC2_rep2', color = \"#e39a44\", linestyle = \"dotted\")\n",
    "\n",
    "\n",
    "ax[1].legend(loc=1, ncol=1, borderaxespad=0)\n",
    "\n",
    "sns.despine()\n",
    "\n",
    "plt.setp((ax[1]), xticks=[-window_size,0,window_size], \n",
    "         xticklabels=['-{}kb'.format(int(window_size/100)),'center','{}kb'.format(int(window_size/100))])\n",
    "\n",
    "\n",
    "plt.savefig(f'{out_dir}Fig4d_hILC2_pc-hILC2_ATAC_Peaks_with_GATA3_TBET_motif_avgLinePlot.pdf'\n",
    "            ,bbox_inches=\"tight\",\n",
    "            transparent=True)"
   ]
  },
  {
   "cell_type": "markdown",
   "id": "e7e3fa77-ce29-4a7e-b893-fbf5b89535fb",
   "metadata": {},
   "source": [
    "#### Visualization of Homer de novo results"
   ]
  },
  {
   "cell_type": "code",
   "execution_count": null,
   "id": "7be8d90a-7234-4c54-86fe-566aa62ffce6",
   "metadata": {},
   "outputs": [],
   "source": [
    "#Paths to deNovo Homer Output \n",
    "\n",
    "hILC2_path = f'{out_dir}hILC2-specific_peak_motifs/homerResults/'\n",
    "\n",
    "pc_hILC2_path = f'{out_dir}pc_hILC2-specific_peak_motifs/homerResults/'\n"
   ]
  },
  {
   "cell_type": "code",
   "execution_count": null,
   "id": "3934a113-253e-4ec4-94a1-e7c268ae04c2",
   "metadata": {},
   "outputs": [],
   "source": [
    "def homerBarPlot(path, numMotifs):\n",
    "      \n",
    "    tf_names = []\n",
    "    pvalues = []\n",
    "    \n",
    "    for num in range(1, numMotifs + 1):\n",
    "        \n",
    "        filename = f'motif{num}.motif'\n",
    "        \n",
    "        with open (path + filename) as file:\n",
    "            first_line = file.readline().split('\\t')\n",
    "            \n",
    "        #Isolate transcriptoin factor\n",
    "        tf_names.append(first_line[1].split('/')[0].split(\":\")[-1])\n",
    "    \n",
    "        #Isolate p-value \n",
    "        pval = first_line[-1].split(',')[-1].rstrip('\\n').lstrip('P:').split(\"-\")[1]\n",
    "    \n",
    "        pvalues.append(int(pval))\n",
    "    \n",
    "    #Format data for Seaborn barplot\n",
    "    dict_motif_pval = {'Motif': tf_names,'pval':pvalues}\n",
    "\n",
    "    df_motif_pval = pd.DataFrame(data = dict_motif_pval)\n",
    "    \n",
    "    #Create Barplot of Figure\n",
    "    fig, ax = plt.subplots(figsize=(2.5, 4))\n",
    "\n",
    "    sns.barplot(x = 'pval',\n",
    "                y = 'Motif',\n",
    "                data = dict_motif_pval,\n",
    "                palette = \"Blues_r\",\n",
    "                ax = ax)\n",
    "    \n",
    "    ax.set_xlabel('Motifs Enrichment \\n -log$_{10}$ p-value', \n",
    "                 fontweight = \"bold\")\n",
    "    \n",
    "    sns.despine()\n",
    "    \n",
    "    return(fig)\n"
   ]
  },
  {
   "cell_type": "code",
   "execution_count": null,
   "id": "71c55e47-8a59-45aa-964b-23be16af0ea4",
   "metadata": {},
   "outputs": [],
   "source": [
    "#ILC2 de novo barplot \n",
    "ILC2_barplot = homerBarPlot(hILC2_path, 5)\n",
    "\n",
    "ILC2_barplot.savefig(f'{out_dir}Fig4c_hILC2_homer_deNovo_barPlot.pdf',            \n",
    "            bbox_inches=\"tight\",\n",
    "            transparent=True\n",
    "           )"
   ]
  },
  {
   "cell_type": "code",
   "execution_count": null,
   "id": "50fc13d5-ec11-4305-9e1a-db28a5f0b98e",
   "metadata": {},
   "outputs": [],
   "source": [
    "#exILC2 de novo barplot \n",
    "pc_hILC2_barplot = homerBarPlot(pc_hILC2_path, 5)\n",
    "\n",
    "pc_hILC2_barplot.savefig(f'{out_dir}Fig4c_pc-hILC2_homer_deNovo_barPlot.pdf',            \n",
    "            bbox_inches=\"tight\",\n",
    "            transparent=True\n",
    "           )"
   ]
  }
 ],
 "metadata": {
  "kernelspec": {
   "display_name": "Python 3 (ipykernel)",
   "language": "python",
   "name": "python3"
  },
  "language_info": {
   "codemirror_mode": {
    "name": "ipython",
    "version": 3
   },
   "file_extension": ".py",
   "mimetype": "text/x-python",
   "name": "python",
   "nbconvert_exporter": "python",
   "pygments_lexer": "ipython3",
   "version": "3.9.7"
  }
 },
 "nbformat": 4,
 "nbformat_minor": 5
}
