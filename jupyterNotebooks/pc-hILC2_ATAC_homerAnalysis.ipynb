{
 "cells": [
  {
   "cell_type": "code",
   "execution_count": null,
   "id": "28004b8a-0420-4369-bcdf-77afd7a2d497",
   "metadata": {},
   "outputs": [],
   "source": [
    "import pandas as pd\n",
    "import glob\n",
    "import numpy as np\n",
    "import matplotlib\n",
    "matplotlib.rcParams['pdf.fonttype'] = 42\n",
    "matplotlib.rcParams['ps.fonttype'] = 42\n",
    "import matplotlib.pyplot as plt\n",
    "from matplotlib.offsetbox import AnchoredText\n",
    "import seaborn as sns"
   ]
  },
  {
   "cell_type": "markdown",
   "id": "8975e95e-1109-450e-b072-8d372d981ec0",
   "metadata": {},
   "source": [
    "#### Generate Bed files for HOMER motif anlaysis"
   ]
  },
  {
   "cell_type": "code",
   "execution_count": null,
   "id": "56b2e232-cffd-43f8-a41b-bb2290784f13",
   "metadata": {},
   "outputs": [],
   "source": [
    "out_dir = \"./Figure_4/\""
   ]
  },
  {
   "cell_type": "code",
   "execution_count": null,
   "id": "f2e3d581-4e4c-4b06-8db5-d99bc4d0b660",
   "metadata": {},
   "outputs": [],
   "source": [
    "ILC_clust_data = pd.read_csv(f\"{out_dir}Fig4b_ILC_clust_data.txt\",\n",
    "                            sep = '\\t',\n",
    "                            index_col= \"peakID\")"
   ]
  },
  {
   "cell_type": "code",
   "execution_count": null,
   "id": "011b91dc-5bb0-499d-bea7-b101ba1775a1",
   "metadata": {},
   "outputs": [],
   "source": [
    "ILC2_peaks = ILC_clust_data[ILC_clust_data['log2FoldChange'] > 0]\n",
    "\n",
    "ILC2_peaks.to_csv(f'{out_dir}hILC2-specific_ATAC_peaks.bed',\n",
    "                 sep = '\\t',\n",
    "                 columns = ['chr','start','end'],\n",
    "                 header = None,\n",
    "                 index = False)\n",
    "\n",
    "pc_hILC2_peaks = ILC_clust_data[ILC_clust_data['log2FoldChange'] < 0]\n",
    "\n",
    "pc_hILC2_peaks.to_csv(f'{out_dir}pc-hILC2-specific_ATAC_peaks.bed',\n",
    "                 sep = '\\t',\n",
    "                 columns = ['chr','start','end'],\n",
    "                 header = None,\n",
    "                 index = False)"
   ]
  },
  {
   "cell_type": "code",
   "execution_count": null,
   "id": "d6bc8e15-88a0-4443-a516-d63e92adef0f",
   "metadata": {},
   "outputs": [],
   "source": [
    "ILC_deseq_unchanged = pd.read_csv(f'{out_dir}hILC2_pc-hILC2_deseq2_results.txt',\n",
    "                        sep = '\\t',\n",
    "                       index_col = \"Unnamed: 0\")\n",
    "\n",
    "ILC_deseq_unchanged = ILC_deseq_unchanged[ILC_deseq_unchanged['padj'] >= 0.05]\n",
    "\n",
    "ILC_union_bed = pd.read_csv(f'{out_dir}pc-hILC2_hILC2_union_200bp.bed',\n",
    "                            sep = '\\t',\n",
    "                           index_col = 'peakName')\n",
    "\n",
    "ILC_deseq_unchanged.join(ILC_union_bed).to_csv(f'{out_dir}hILC2_pc-hILC2_unchanged_ATAC_peaks.bed',\n",
    "                                     sep = '\\t',\n",
    "                                     header = None,\n",
    "                                     index = False,\n",
    "                                     columns = ['Chr', 'Start','End'])"
   ]
  },
  {
   "cell_type": "code",
   "execution_count": null,
   "id": "b8db91db-77f5-4b9b-bb04-d9199cdffb9e",
   "metadata": {},
   "outputs": [],
   "source": [
    "hILC2_peakFile = f'{out_dir}hILC2-specific_ATAC_peaks.bed'\n",
    "\n",
    "pc_hILC2_peakFile = f'{out_dir}pc-hILC2-specific_ATAC_peaks.bed'\n",
    "\n",
    "background_peakFile = f'{out_dir}hILC2_pc-hILC2_unchanged_ATAC_peaks.bed'\n"
   ]
  },
  {
   "cell_type": "markdown",
   "id": "864e2038-999e-429d-ad7d-67c10d8cfe64",
   "metadata": {},
   "source": [
    "#### Motifs at open ATAC peaks in hILC2s"
   ]
  },
  {
   "cell_type": "markdown",
   "id": "58f03bbe-54cd-4975-8a7c-ca8dba4f2fc6",
   "metadata": {},
   "source": [
    "#### Motifs at open ATAC peaks in pc-hILC2s"
   ]
  },
  {
   "cell_type": "code",
   "execution_count": null,
   "id": "fc4f2102-b2e4-4a49-8dad-38a759a451f6",
   "metadata": {},
   "outputs": [],
   "source": [
    "%%bash -s \"$out_dir\" \"$pc_hILC2_peakFile\" \"$background_peakFile\"\n",
    "\n",
    "findMotifsGenome.pl \\\n",
    "$2 \\\n",
    "hg38 \\\n",
    "$1pc_hILC2-specific_peak_motifs \\\n",
    "-size 200 \\\n",
    "-bg $3 \\\n",
    "-preparse \\\n",
    "-preparsedDir $1preparse_hg38\n"
   ]
  }
 ],
 "metadata": {
  "kernelspec": {
   "display_name": "Python 3 (ipykernel)",
   "language": "python",
   "name": "python3"
  },
  "language_info": {
   "codemirror_mode": {
    "name": "ipython",
    "version": 3
   },
   "file_extension": ".py",
   "mimetype": "text/x-python",
   "name": "python",
   "nbconvert_exporter": "python",
   "pygments_lexer": "ipython3",
   "version": "3.9.7"
  }
 },
 "nbformat": 4,
 "nbformat_minor": 5
}
