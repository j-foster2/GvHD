{
 "cells": [
  {
   "cell_type": "markdown",
   "id": "ece655e0-cb53-4876-b7fb-295864e15151",
   "metadata": {
    "tags": []
   },
   "source": [
    "### Notes\n",
    "#### Generation of Enrichr Data\n",
    "1. Post-transplant Data Key\n",
    "    1. ./Figure_2/ILC2_transplant_differential_genes_cluster_3.txt --> Post1\n",
    "    2. ./Figure_2/ILC2_transplant_differential_genes_cluster_4.txt --> Post2\n",
    "    3. ./Figure_2/ILC2_transplant_differential_genes_cluster_5.txt --> Post3\n",
    "    \n",
    "2. Gene lists were passed to Enrichr via online portal (https://maayanlab.cloud/Enrichr/)\n",
    "\n",
    "3. Terms called using Mouse Gene Atlas Database were input for this script\n",
    " \n",
    " \n",
    "#### Description of Script  \n",
    "1. Pulled the top5 terms for each of the post-transplant gene sets\n",
    "\n",
    "2. Calculated overlap, if the term was not in the top five of a given gene set then overlap was set to 0"
   ]
  },
  {
   "cell_type": "code",
   "execution_count": null,
   "id": "ff604687-9301-4141-b112-959a71bb49fa",
   "metadata": {},
   "outputs": [],
   "source": [
    "import pandas as pd\n",
    "import numpy as np\n",
    "import glob\n",
    "import os\n"
   ]
  },
  {
   "cell_type": "code",
   "execution_count": null,
   "id": "736fbc32-7809-4d17-b761-fcf4707bfde9",
   "metadata": {},
   "outputs": [],
   "source": [
    "# Output Directory\n",
    "output_dir = \"./Figure_2/\"\n"
   ]
  },
  {
   "cell_type": "code",
   "execution_count": null,
   "id": "abf4eb87-9292-4f1f-b701-84872c03899b",
   "metadata": {},
   "outputs": [],
   "source": [
    "# read Enrichr results (Mouse Gene Atlas)\n",
    "enrichr_files = glob.glob(\"./enrichrData/Mouse_Gene_Atlas_table_Clust_Post*txt\")\n"
   ]
  },
  {
   "cell_type": "code",
   "execution_count": null,
   "id": "e0be4983-9011-48ca-b261-5e3c04c0ac3d",
   "metadata": {},
   "outputs": [],
   "source": [
    "# Isolate cluster names from file name \n",
    "cluster_Names = [os.path.basename(file).split(\"_\")[-1].split(\".\")[0] for file in enrichr_files]\n"
   ]
  },
  {
   "cell_type": "code",
   "execution_count": null,
   "id": "c551bb41-fd57-48a1-b0f6-7826df31b508",
   "metadata": {},
   "outputs": [],
   "source": [
    "enrichr_data = [pd.read_csv(file, sep ='\\t') for file in enrichr_files]\n",
    "\n",
    "# Annotate each dataset with cluster\n",
    "enrichr_data = [df.assign(cluster = cluster) for df,cluster in zip(enrichr_data,cluster_Names)]\n",
    "\n",
    "# Isolate the top 5 terms\n",
    "enrichr_data = [df.head(5) for df in enrichr_data]\n",
    "\n",
    "# Select Term, adj P-value, cluster\n",
    "enrichr_data = [df[['Term','Overlap','Adjusted P-value','cluster']] for df in enrichr_data]\n",
    "\n",
    "# Calculate overlap percentage\n",
    "overlap_pct = [df['Overlap'].apply(lambda x: int(x.split(\"/\")[0]) / int(x.split(\"/\")[1])) for df in enrichr_data]\n",
    "\n",
    "for df, overlap in zip(enrichr_data, overlap_pct):\n",
    "    df['Overlap'] = overlap \n",
    "\n",
    "enrichr_data  = pd.concat(enrichr_data, ignore_index=True)\n",
    "\n",
    "# Copied for appending overlap to final matrix\n",
    "overlap_data = enrichr_data\n"
   ]
  },
  {
   "cell_type": "code",
   "execution_count": null,
   "id": "5126c3ca-e1be-4422-9add-c467ee21da9c",
   "metadata": {},
   "outputs": [],
   "source": [
    "# Long-to-Wide\n",
    "enrichr_data = overlap_data.pivot(index='cluster', columns='Term', values='Adjusted P-value')\n",
    "\n",
    "# nan to 1\n",
    "enrichr_data = enrichr_data.fillna(1)\n",
    "\n",
    "# -log10 transform data\n",
    "enrichr_data = -np.log10(enrichr_data)\n",
    "\n",
    "# replace -0 with 0 values\n",
    "enrichr_data = enrichr_data.replace(-0.0, 0) \n"
   ]
  },
  {
   "cell_type": "code",
   "execution_count": null,
   "id": "e48a7820-20d6-46dc-bae1-af54d9d6e125",
   "metadata": {},
   "outputs": [],
   "source": [
    "# wide to long\n",
    "enrichr_data = pd.melt(enrichr_data.reset_index(), id_vars='cluster',value_vars=enrichr_data.columns.to_list())"
   ]
  },
  {
   "cell_type": "code",
   "execution_count": null,
   "id": "5a3e9341-ad57-4323-ae08-168a98f34f12",
   "metadata": {},
   "outputs": [],
   "source": [
    "# Add overlap pct to the matrix\n",
    "enrichr_data = enrichr_data.assign(overlap = float(0))\n",
    "\n",
    "for idx, row in overlap_data.iterrows():\n",
    "    for idx2, row2 in enrichr_data.iterrows():\n",
    "        if row['Term'] == row2['Term'] and row['cluster'] == row2['cluster']:\n",
    "            enrichr_data.at[idx2,'overlap'] = row['Overlap']\n"
   ]
  },
  {
   "cell_type": "code",
   "execution_count": null,
   "id": "db1e17f5-1ebf-4072-9448-fec15ff4a8d4",
   "metadata": {},
   "outputs": [],
   "source": [
    "# Save Matrix\n",
    "enrichr_data.to_csv(f\"{output_dir}post_transplant_enrichr.txt\",\n",
    "                   sep = '\\t',\n",
    "                   index = False)"
   ]
  }
 ],
 "metadata": {
  "kernelspec": {
   "display_name": "Python 3 (ipykernel)",
   "language": "python",
   "name": "python3"
  },
  "language_info": {
   "codemirror_mode": {
    "name": "ipython",
    "version": 3
   },
   "file_extension": ".py",
   "mimetype": "text/x-python",
   "name": "python",
   "nbconvert_exporter": "python",
   "pygments_lexer": "ipython3",
   "version": "3.9.7"
  }
 },
 "nbformat": 4,
 "nbformat_minor": 5
}
