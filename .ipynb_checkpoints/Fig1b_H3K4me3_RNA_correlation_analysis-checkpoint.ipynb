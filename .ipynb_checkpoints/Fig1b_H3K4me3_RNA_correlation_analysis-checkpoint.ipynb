{
 "cells": [
  {
   "cell_type": "code",
   "execution_count": 28,
   "id": "2f9f0f24-a9e5-470f-83df-a1b33802b2c3",
   "metadata": {},
   "outputs": [],
   "source": [
    "import glob\n",
    "import os\n",
    "import pandas as pd\n",
    "import matplotlib\n",
    "matplotlib.rcParams['pdf.fonttype'] = 42\n",
    "matplotlib.rcParams['ps.fonttype'] = 42\n",
    "import matplotlib.pyplot as plt\n",
    "from matplotlib.offsetbox import AnchoredText\n",
    "import seaborn as sns\n",
    "import numpy as np\n"
   ]
  },
  {
   "cell_type": "markdown",
   "id": "6ee550cf-e668-4d63-aac4-75cc0ddce910",
   "metadata": {},
   "source": [
    "#### Output Directory"
   ]
  },
  {
   "cell_type": "code",
   "execution_count": 1,
   "id": "95dfcb87-8c7c-4dd9-848a-54cc0c5bbcfc",
   "metadata": {},
   "outputs": [],
   "source": [
    "%%bash\n",
    "\n",
    "# Create directory to store output of analysis\n",
    "if [ ! -d ../results/Fig1B_H3K4me3_RNA_correlation_analysis/ ]; then\n",
    "  \n",
    "  mkdir -p ../results/Fig1B_H3K4me3_RNA_correlation_analysis/\n",
    "  \n",
    "fi"
   ]
  },
  {
   "cell_type": "code",
   "execution_count": 36,
   "id": "04731956-2d24-4664-b958-15d945e4e8ac",
   "metadata": {},
   "outputs": [],
   "source": [
    "# Store path to output directory\n",
    "output_dir = \"../results/Fig1B_H3K4me3_RNA_correlation_analysis/\"\n"
   ]
  },
  {
   "cell_type": "markdown",
   "id": "3d58c96f-7744-455b-8ede-9edb8ab5592a",
   "metadata": {},
   "source": [
    "#### Create BED file of Refseq promotor coordinates"
   ]
  },
  {
   "cell_type": "code",
   "execution_count": 6,
   "id": "01eaf80d-c470-4c2f-80dd-338628858dae",
   "metadata": {},
   "outputs": [],
   "source": [
    "#Read mm10 RefSeq file \n",
    "mm10_refseq = pd.read_csv('../Nat_Commun_Data/mm10_refseq_long_transcript_nohaplo_2020-01-25.bed',\n",
    "                          delimiter='\\t',\n",
    "                          header=None)\n",
    "#Format RefSeq file\n",
    "mm10_refseq.columns = ['chr','start','end','strand','geneName','transcriptID']\n",
    "\n",
    "mm10_refseq.drop(columns=['transcriptID'], inplace = True)\n",
    "\n",
    "#Create TSS BED file (-300,+500)\n",
    "upstream_dist = 300\n",
    "downstream_dist = 500\n",
    "\n",
    "with open(f'{output_dir}/refseq_promotor.bed', 'w') as output:\n",
    "    for idx, row in mm10_refseq.iterrows():\n",
    "        if row[3] == \"+\" and row[3] != 'strand':\n",
    "            output.write('%s\\t%s\\t%s\\t%s\\n' % \\\n",
    "                         (row[0], row[1] - upstream_dist, row[1] + downstream_dist,row[4]))\n",
    "        elif row[3] == \"-\" and row[3] != 'strand':\n",
    "            output.write('%s\\t%s\\t%s\\t%s\\n' % \\\n",
    "                         (row[0], row[2] - downstream_dist,row[2] + upstream_dist,row[4]))"
   ]
  },
  {
   "cell_type": "markdown",
   "id": "9a3dbf27-804e-4a48-9a47-6c090393a34c",
   "metadata": {},
   "source": [
    "#### Read gene-level RNA abundance estimates from Bruce et al. ()"
   ]
  },
  {
   "cell_type": "code",
   "execution_count": 7,
   "id": "e4a31da8-ecfa-4533-9e54-0273e1d7d85e",
   "metadata": {},
   "outputs": [],
   "source": [
    "# Read in gene-level RNA abundance data for Bruce ILC2s\n",
    "rna_data = pd.read_csv('../Nat_Commun_Data/ILC_Bruce_Gury-BenAri_gene_level_RNA_abundance.txt',\n",
    "                   sep = '\\t')\n",
    "\n",
    "rna_data = rna_data.rename(columns={\"Unnamed: 0\": \"geneName\"})\n",
    "\n",
    "rna_data = rna_data.set_index(\"geneName\")\n",
    "\n",
    "rna_data = rna_data.loc[:,\"abundance.ILC2_Bruce_rep1\":\"abundance.ILC2_Bruce_rep3\"]"
   ]
  },
  {
   "cell_type": "markdown",
   "id": "97e46c43-be73-49f6-b95e-172046da8f6b",
   "metadata": {},
   "source": [
    "#### Calculate K4me3 read-depth normalized signal at gene promoters"
   ]
  },
  {
   "cell_type": "code",
   "execution_count": 35,
   "id": "a718b67f-6435-4bb0-b597-b8c825725495",
   "metadata": {},
   "outputs": [],
   "source": [
    "# Gather the bigWig file names for all acute ChIP-seq data\n",
    "laurie_k4me3_data_path = '/proj/dllab/jfoster/serody_project/results/pipeline_output/chip-2019-10-29/'\n",
    "\n",
    "k4me3_bw = sorted(glob.glob(f'{laurie_k4me3_data_path}H3K4ME3_rep*/*bw'))\n",
    "\n",
    "fn_chip_bw = k4me3_bw\n",
    "\n",
    "# Convert bigWig file name list to space delimited string\n",
    "str_fn_chip_bw = \" \".join(fn_chip_bw)\n",
    "\n",
    "# Gather experiment names \n",
    "exp_names = [os.path.basename(os.path.dirname(name)) for name in fn_chip_bw]\n",
    "\n",
    "# Convert experiment names list to space delimited string\n",
    "str_exp_names = \" \".join(exp_names)\n"
   ]
  },
  {
   "cell_type": "code",
   "execution_count": 14,
   "id": "10ad3cae-0ba9-4aee-ac66-83a98872ad60",
   "metadata": {},
   "outputs": [],
   "source": [
    "# Save promoter bed file \n",
    "mm10_promoter_bed = f'{output_dir}refseq_promotor.bed'\n"
   ]
  },
  {
   "cell_type": "code",
   "execution_count": 15,
   "id": "525cb811-0b35-4a34-8f47-9e6d6a8757a2",
   "metadata": {},
   "outputs": [
    {
     "name": "stdout",
     "output_type": "stream",
     "text": [
      "deeptools 3.5.1\n"
     ]
    }
   ],
   "source": [
    "%%bash \n",
    "\n",
    "# Check version of deeptools\n",
    "deeptools --version\n"
   ]
  },
  {
   "cell_type": "code",
   "execution_count": 16,
   "id": "8fe1ba4c-2e57-4bd8-88f2-71865af9d5c5",
   "metadata": {},
   "outputs": [
    {
     "name": "stdout",
     "output_type": "stream",
     "text": [
      "7100347\n"
     ]
    },
    {
     "name": "stderr",
     "output_type": "stream",
     "text": [
      "Restoring modules to user's default, for system: \"longleaf\"\n",
      "     This module only available for use on a RHEL7 node\n"
     ]
    }
   ],
   "source": [
    "%%bash -s  \"$str_fn_chip_bw\" \"$str_exp_names\" \"$mm10_promoter_bed\" \"$output_dir\"\n",
    "\n",
    "source /nas/longleaf/home/jfoster3/.bashrc;\n",
    "\n",
    "# Calculate the \n",
    "ssub --mem=2g --time=0-0:5 -n 24 --wrap=\\\" \\\\\\\n",
    "multiBigwigSummary BED-file \\\n",
    "--bwfiles $1 \\\n",
    "--BED $3 \\\n",
    "--labels $2 \\\n",
    "--outFileName $4ILC2_H3K4me3_promoter.npz \\\n",
    "--outRawCounts $4ILC2_H3K4me3_promoter.tab \\\n",
    "-p 24 \\\""
   ]
  },
  {
   "cell_type": "markdown",
   "id": "91af785c-be63-4c35-9afb-847bb79b6e44",
   "metadata": {},
   "source": [
    "#### Join RNA and H3K4me3 DataFrames"
   ]
  },
  {
   "cell_type": "code",
   "execution_count": 30,
   "id": "126dda3f-c65c-44c4-86eb-23d5825f1465",
   "metadata": {},
   "outputs": [],
   "source": [
    "# Annotate deepTools matrix with geneNames\n",
    "k4me3_signal = pd.read_csv(f'{output_dir}ILC2_H3K4me3_promoter.tab',\n",
    "                           sep = '\\t',\n",
    "                           header = 0,\n",
    "                           names = ['chr','start','end','H3K4me3_rep1','H3K4me3_rep2'],\n",
    "                           index_col = ['chr','start','end'])"
   ]
  },
  {
   "cell_type": "code",
   "execution_count": 31,
   "id": "5e1830cb-a84b-4e29-93c4-64bafca0cddd",
   "metadata": {},
   "outputs": [],
   "source": [
    "# Join RNA and H3K4me3 data into one dataframe\n",
    "mm10_promoter_bed_df = pd.read_csv(mm10_promoter_bed,\n",
    "                                   sep = '\\t',\n",
    "                                   header = None,\n",
    "                                   names = ['chr','start','end', 'geneName'],\n",
    "                                   index_col = ['chr','start','end'])\n",
    "\n",
    "mm10_promoter_bed_df = k4me3_signal.join(mm10_promoter_bed_df)\n",
    "\n",
    "mm10_promoter_bed_df = mm10_promoter_bed_df.set_index('geneName')\n",
    "\n",
    "rna_data_k4me3_data = rna_data.join(mm10_promoter_bed_df)\n",
    "\n",
    "rna_data_k4me3_data = rna_data_k4me3_data.assign(ILC2_RNA_avg = rna_data_k4me3_data.loc[:,\"abundance.ILC2_Bruce_rep1\":\"abundance.ILC2_Bruce_rep3\"].mean(axis = 1))\n",
    "\n",
    "rna_data_k4me3_data = rna_data_k4me3_data.assign(ILC2_K4me3_avg = rna_data_k4me3_data.loc[:,\"H3K4me3_rep1\":\"H3K4me3_rep2\"].mean(axis = 1))\n"
   ]
  },
  {
   "cell_type": "markdown",
   "id": "a28c5d62-de30-48ef-acb6-7a7a76c428bb",
   "metadata": {},
   "source": [
    "#### RNA Abundance v. K4me3 Scatter Plot"
   ]
  },
  {
   "cell_type": "code",
   "execution_count": 29,
   "id": "9330322e-551f-43c4-a9c4-1f4339438650",
   "metadata": {},
   "outputs": [
    {
     "data": {
      "image/png": "[encoded data removed]",
      "text/plain": [
       "<Figure size 432x288 with 1 Axes>"
      ]
     },
     "metadata": {
      "needs_background": "light"
     },
     "output_type": "display_data"
    }
   ],
   "source": [
    "fig, ax = plt.subplots()\n",
    "\n",
    "sns.scatterplot(x = \"ILC2_RNA_avg\",\n",
    "                y = \"ILC2_K4me3_avg\",\n",
    "                data=np.log2(rna_data_k4me3_data),\n",
    "               ax = ax,\n",
    "               linewidth=0.25, \n",
    "               s = 2)\n",
    "\n",
    "# Calculate Spearman Correlation Coefficient \n",
    "spearman_corr = rna_data_k4me3_data['ILC2_RNA_avg'].corr(rna_data_k4me3_data['ILC2_K4me3_avg'],\n",
    "                                                       method='spearman')\n",
    "\n",
    "# Append Spearman Correlation Coefficient \n",
    "spearman = AnchoredText('r = %.2f' % (spearman_corr),loc=2)\n",
    "\n",
    "sns.despine()\n",
    "\n",
    "plt.savefig(f'{output_dir}Bruce_RNA_Laurie_K4me3_correlation.pdf',\n",
    "            bbox_inches=\"tight\",\n",
    "            transparent=True)\n",
    "\n"
   ]
  },
  {
   "cell_type": "markdown",
   "id": "cb409438-ef0c-42e9-ac28-ccb54acb73a1",
   "metadata": {},
   "source": [
    "#### Save Data for Visualization in R"
   ]
  },
  {
   "cell_type": "code",
   "execution_count": 32,
   "id": "0969ce79-121b-434f-b15f-86839ef20c72",
   "metadata": {},
   "outputs": [],
   "source": [
    "#Save dataframe for visualization in R\n",
    "rna_data_k4me3_data.to_csv(f'{output_dir}rna_data_k4me3_data.txt',\n",
    "                           sep = '\\t',\n",
    "                           index = False)"
   ]
  }
 ],
 "metadata": {
  "kernelspec": {
   "display_name": "Python 3 (ipykernel)",
   "language": "python",
   "name": "python3"
  },
  "language_info": {
   "codemirror_mode": {
    "name": "ipython",
    "version": 3
   },
   "file_extension": ".py",
   "mimetype": "text/x-python",
   "name": "python",
   "nbconvert_exporter": "python",
   "pygments_lexer": "ipython3",
   "version": "3.9.7"
  }
 },
 "nbformat": 4,
 "nbformat_minor": 5
}
