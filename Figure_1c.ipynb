{
 "cells": [
  {
   "cell_type": "code",
   "execution_count": null,
   "id": "036417dc-899c-4422-9282-b74f433d6129",
   "metadata": {},
   "outputs": [],
   "source": [
    "# Calculates Average normalized H3K4me3 in ILC2s generated for this manuscript at \n",
    "# TSSs specific to ILC1s and ILC2s.\n",
    "#\n",
    "# Generates Figure 1c plot.\n"
   ]
  },
  {
   "cell_type": "code",
   "execution_count": null,
   "id": "c09eb94a-d0bc-44e2-9fd3-0508c41f0ded",
   "metadata": {},
   "outputs": [],
   "source": [
    "import pandas as pd\n",
    "import glob\n",
    "import matplotlib\n",
    "matplotlib.rcParams['pdf.fonttype'] = 42\n",
    "matplotlib.rcParams['ps.fonttype'] = 42\n",
    "import matplotlib.pyplot as plt\n",
    "from matplotlib.offsetbox import AnchoredText\n",
    "import seaborn as sns\n",
    "\n",
    "# deeptools 3.5.1 used for this analysis "
   ]
  },
  {
   "cell_type": "markdown",
   "id": "fd24cf36-d92d-470f-abdb-aaf3048bf441",
   "metadata": {},
   "source": [
    "### Output Directory"
   ]
  },
  {
   "cell_type": "code",
   "execution_count": null,
   "id": "e4782c49-0ef2-4ff1-8044-5fc13cbb27e6",
   "metadata": {},
   "outputs": [],
   "source": [
    "# Create Output Dir variable\n",
    "output_dir = './Figure_1/'\n"
   ]
  },
  {
   "cell_type": "markdown",
   "id": "e695b6ba-d08e-4f92-92e8-dec4f1ffbba4",
   "metadata": {},
   "source": [
    "### Compare in vitro ILC2 H3K4me3 at ILC1 and ILC2 specific marked TSSs\n",
    "1. in vitro ILC2 data were generated for this manuscript"
   ]
  },
  {
   "cell_type": "code",
   "execution_count": null,
   "id": "0b08635e-ca6c-4dca-a8fe-8912013ec9a4",
   "metadata": {},
   "outputs": [],
   "source": [
    "# Store paths to ILC2 H3K4me3 bigWig files\n",
    "K4me3_bw = sorted(glob.glob('./processed_data/blfH3K4ME3_rep*bw'))\n",
    "\n",
    "# Convert bigWig file name list to space delimited string\n",
    "str_K4me3_bw = \" \".join(K4me3_bw)\n",
    "\n",
    "# Experiment names \n",
    "K4me3_exp_names = [\"H3K4ME3_rep1\", \"H3K4ME3_rep2\"]\n",
    "\n",
    "# Convert experiment names list to space delimited string\n",
    "str_K4me3_exp_names = \" \".join(K4me3_exp_names)\n"
   ]
  },
  {
   "cell_type": "code",
   "execution_count": null,
   "id": "c8a0ce2a-4969-4417-a6ba-b7aada6e2ace",
   "metadata": {},
   "outputs": [],
   "source": [
    "# Differential TSSs marked H3K4me3 specific to ILC1s \n",
    "ILC1_TSS_BED = f'{output_dir}ILC1_specific_k4me3-marked_TSSs.bed'\n"
   ]
  },
  {
   "cell_type": "code",
   "execution_count": null,
   "id": "789307c8-c08b-4da8-8247-601f8efc32d9",
   "metadata": {},
   "outputs": [],
   "source": [
    "%%bash -s  \"$str_K4me3_bw\" \"$str_K4me3_exp_names\" \"$ILC1_TSS_BED\" \"$output_dir\"\n",
    "\n",
    "# Calculate normalized H3K4me3 signal at TSSs specific to ILC1s\n",
    "multiBigwigSummary BED-file \\\n",
    "--bwfiles $1 \\\n",
    "--BED $3 \\\n",
    "--labels $2 \\\n",
    "--outFileName $4ILC2_H3K4me3_at_GBA_K4me3_marked_TSSs_specificToILC1.npz \\\n",
    "--outRawCounts $4ILC2_H3K4me3_at_GBA_K4me3_marked_TSSs_specificToILC1.tab \\\n",
    "-p 4"
   ]
  },
  {
   "cell_type": "code",
   "execution_count": null,
   "id": "c1dcd981-fdbc-4862-9a0e-297eb99126e7",
   "metadata": {},
   "outputs": [],
   "source": [
    "# Differential TSSs marked H3K4me3 specific to ILC2s \n",
    "ILC2_TSS_BED = f'{output_dir}ILC2_specific_k4me3-marked_TSSs.bed'\n"
   ]
  },
  {
   "cell_type": "code",
   "execution_count": null,
   "id": "eb25868d-afa1-4e15-9818-c9ea9d44a8a7",
   "metadata": {},
   "outputs": [],
   "source": [
    "%%bash -s  \"$str_K4me3_bw\" \"$str_K4me3_exp_names\" \"$ILC2_TSS_BED\" \"$output_dir\"\n",
    "\n",
    "# Calculate normalized H3K4me3 signal at TSSs specific to ILC2s\n",
    "multiBigwigSummary BED-file \\\n",
    "--bwfiles $1 \\\n",
    "--BED $3 \\\n",
    "--labels $2 \\\n",
    "--outFileName $4ILC2_H3K4me3_at_GBA_K4me3_marked_TSSs_specificToILC2.npz \\\n",
    "--outRawCounts $4ILC2_H3K4me3_at_GBA_K4me3_marked_TSSs_specificToILC2.tab \\\n",
    "-p 4"
   ]
  },
  {
   "cell_type": "code",
   "execution_count": null,
   "id": "57960263-33b7-448e-aa65-98021cbf47ec",
   "metadata": {},
   "outputs": [],
   "source": [
    "# Read ILC2 normalized H3K4me3 signal at ILC1 TSSs \n",
    "K4me3_ILC1 = pd.read_csv(f'{output_dir}ILC2_H3K4me3_at_GBA_K4me3_marked_TSSs_specificToILC1.tab',\n",
    "                                sep = '\\t',\n",
    "                               header = 0,\n",
    "                               names = ['chr','start','end','H3K4me3_ILC1_rep1','H3K4me3_ILC1_rep2'])\n",
    "\n",
    "# Average normalized H3K4me3 signal across both replicates\n",
    "K4me3_ILC1 = K4me3_ILC1.assign(H3K4me3_ILC1_avg = K4me3_ILC1.loc[:,'H3K4me3_ILC1_rep1':\"H3K4me3_ILC1_rep2\"].mean(axis = 1))\n",
    "\n",
    "# Drop the individual replicate data\n",
    "K4me3_ILC1 = K4me3_ILC1.drop(columns=['H3K4me3_ILC1_rep1',\"H3K4me3_ILC1_rep2\"])\n",
    "\n",
    "# Wide to Long DF\n",
    "K4me3_ILC1_long = pd.melt(K4me3_ILC1, id_vars=['chr','start','end'], var_name='cellType', value_name= 'k4me3_signal')\n"
   ]
  },
  {
   "cell_type": "code",
   "execution_count": null,
   "id": "32de1d84-6524-45b8-b883-37ff05e034ec",
   "metadata": {},
   "outputs": [],
   "source": [
    "# Read ILC2 normalized H3K4me3 signal at ILC2 TSSs \n",
    "K4me3_ILC2 = pd.read_csv(f'{output_dir}ILC2_H3K4me3_at_GBA_K4me3_marked_TSSs_specificToILC2.tab',\n",
    "                                sep = '\\t',\n",
    "                               header = 0,\n",
    "                               names = ['chr','start','end','H3K4me3_ILC2_rep1','H3K4me3_ILC2_rep2'])\n",
    "\n",
    "# Average normalized H3K4me3 signal across both replicates\n",
    "K4me3_ILC2 = K4me3_ILC2.assign(H3K4me3_ILC2_avg = K4me3_ILC2.loc[:,'H3K4me3_ILC2_rep1':\"H3K4me3_ILC2_rep2\"].mean(axis = 1))\n",
    "\n",
    "# Drop the individual replicate data\n",
    "K4me3_ILC2 = K4me3_ILC2.drop(columns=['H3K4me3_ILC2_rep1',\"H3K4me3_ILC2_rep2\"])\n",
    "\n",
    "# Wide to Long DF\n",
    "K4me3_ILC2_long = pd.melt(K4me3_ILC2, id_vars=['chr','start','end'], var_name='cellType', value_name= 'k4me3_signal')\n"
   ]
  },
  {
   "cell_type": "code",
   "execution_count": null,
   "id": "d1693326-1179-4bdc-b839-23e0bc69779c",
   "metadata": {},
   "outputs": [],
   "source": [
    "# Concat DFs\n",
    "K4me3_ILC1_ILC2_long = pd.concat([K4me3_ILC1_long,K4me3_ILC2_long])"
   ]
  },
  {
   "cell_type": "code",
   "execution_count": null,
   "id": "5bbb4c0b-a147-4b7b-93f0-6412a58b6aaa",
   "metadata": {},
   "outputs": [],
   "source": [
    "fix, ax = plt.subplots(figsize=(2.5,3))\n",
    "\n",
    "\n",
    "sns.boxplot(x=\"cellType\",\n",
    "            y=\"k4me3_signal\",\n",
    "            data=K4me3_ILC1_ILC2_long,\n",
    "            ax = ax,\n",
    "           showfliers = False,\n",
    "           linewidth = 1,\n",
    "           width = .5)\n",
    "\n",
    "ax.set_xlabel(\"\")\n",
    "ax.set_ylabel(\"H3K4me3 \\n (Normalized signal)\")\n",
    "ax.set_xticklabels([\"ILC1\", \"ILC2\"])\n",
    "\n",
    "sns.despine()\n",
    "\n",
    "plt.savefig(f'{output_dir}Fig1c_ILC2_H3K4me3_at_GBA_ILC_specific_TSSs.pdf',\n",
    "            bbox_inches=\"tight\",\n",
    "            transparent=True)"
   ]
  },
  {
   "cell_type": "code",
   "execution_count": null,
   "id": "992f80bd-ee44-432a-b231-3bf511d19507",
   "metadata": {},
   "outputs": [],
   "source": [
    "#Calculate Mann-Whitney rank test \n",
    "from scipy.stats import mannwhitneyu\n",
    "\n",
    "mannwhitneyu(K4me3_ILC1['H3K4me3_ILC1_avg'],\n",
    "             K4me3_ILC2['H3K4me3_ILC2_avg'],\n",
    "            alternative = \"less\")\n",
    "\n"
   ]
  },
  {
   "cell_type": "code",
   "execution_count": null,
   "id": "2909b8b2-07c3-4f9f-bd75-e099bb942328",
   "metadata": {},
   "outputs": [],
   "source": []
  }
 ],
 "metadata": {
  "kernelspec": {
   "display_name": "Python 3 (ipykernel)",
   "language": "python",
   "name": "python3"
  },
  "language_info": {
   "codemirror_mode": {
    "name": "ipython",
    "version": 3
   },
   "file_extension": ".py",
   "mimetype": "text/x-python",
   "name": "python",
   "nbconvert_exporter": "python",
   "pygments_lexer": "ipython3",
   "version": "3.9.7"
  }
 },
 "nbformat": 4,
 "nbformat_minor": 5
}
