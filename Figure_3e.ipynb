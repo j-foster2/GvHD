{
 "cells": [
  {
   "cell_type": "code",
   "execution_count": null,
   "id": "bd77f470-3739-4f5f-9889-ec432768c322",
   "metadata": {},
   "outputs": [],
   "source": [
    "import pandas as pd\n",
    "import glob\n",
    "import matplotlib\n",
    "matplotlib.rcParams['pdf.fonttype'] = 42\n",
    "matplotlib.rcParams['ps.fonttype'] = 42\n",
    "import matplotlib.pyplot as plt\n",
    "from matplotlib.offsetbox import AnchoredText\n",
    "import seaborn as sns"
   ]
  },
  {
   "cell_type": "markdown",
   "id": "f8a2a944-ec62-4b05-ab39-5111ea0588c2",
   "metadata": {},
   "source": [
    "#### Output Directory"
   ]
  },
  {
   "cell_type": "code",
   "execution_count": null,
   "id": "e48859e1-1a44-4f63-b8cb-4f7f6a069a89",
   "metadata": {},
   "outputs": [],
   "source": [
    "#Create Output Dir variable\n",
    "out_dir = \"./Figure_3/\"\n"
   ]
  },
  {
   "cell_type": "code",
   "execution_count": null,
   "id": "2cec34c1-6398-40e3-8c5e-b1cfd9e6035c",
   "metadata": {},
   "outputs": [],
   "source": [
    "# Create a BED file for GREAT analysis\n",
    "\n",
    "ILC_deseq = pd.read_csv(f'{out_dir}pcILC2_ILC2_deseq2_results_diff_0.05.txt',\n",
    "                        sep = '\\t',\n",
    "                        index_col = \"Unnamed: 0\")\n",
    "\n",
    "ILC_union_bed = pd.read_csv(f'{out_dir}pcILC2_ILC2_union_200bp.bed',\n",
    "                            sep = '\\t',\n",
    "                           index_col = 'peakName')\n",
    "\n",
    "ILC_deseq.join(ILC_union_bed).to_csv(f'{out_dir}pcILC2_ILC2_differential_ATAC_peaks.bed',\n",
    "                                     sep = '\\t',\n",
    "                                     header = None,\n",
    "                                     index = False,\n",
    "                                     columns = ['Chr', 'Start','End'])\n",
    "\n",
    "ILC_deseq_GREAT = ILC_deseq.assign(peakID = [f'peak{i}' for i in range(ILC_deseq.shape[0])])\n",
    "\n",
    "ILC_deseq_GREAT.join(ILC_union_bed).to_csv(f'{out_dir}pcILC2_ILC2_differential_ATAC_peaks_GREAT.bed',\n",
    "                                     sep = '\\t',\n",
    "                                     header = None,\n",
    "                                     index = False,\n",
    "                                     columns = ['Chr', 'Start','End','peakID'])"
   ]
  },
  {
   "cell_type": "code",
   "execution_count": null,
   "id": "37667eec-1c0d-4c22-ba97-a1c1b4f1d318",
   "metadata": {},
   "outputs": [],
   "source": [
    "pcILC2_bw = sorted(glob.glob('./processed_data/mILC1_ATAC_rep*bw'))\n",
    "\n",
    "ILC2_bw = sorted(glob.glob('./processed_data/mILC2_ATAC_rep*bw'))\n",
    "\n",
    "fn_chip_bw = pcILC2_bw + ILC2_bw\n",
    "\n",
    "#Convert bigWig file name list to space delimited string\n",
    "str_fn_chip_bw = \" \".join(fn_chip_bw)\n",
    "\n",
    "#Gather experiment names \n",
    "exp_names = [\"ILC1_rep1\", \"ILC1_rep2\",\n",
    "            \"ILC2_rep1\", \"ILC2_rep2\", \"ILC2_rep3\"]\n",
    "\n",
    "#Convert experiment names list to space delimited string\n",
    "str_exp_names = \" \".join(exp_names)\n"
   ]
  },
  {
   "cell_type": "code",
   "execution_count": null,
   "id": "05536dcb-4d0c-4903-9b46-d3fe2af581fd",
   "metadata": {},
   "outputs": [],
   "source": [
    "#ILC1 specific promoters \n",
    "ILC_diff_peak_bed = f'{out_dir}pcILC2_ILC2_differential_ATAC_peaks.bed'\n"
   ]
  },
  {
   "cell_type": "code",
   "execution_count": null,
   "id": "7752f19f-8be9-4e86-a1a6-44e08d2d9bad",
   "metadata": {},
   "outputs": [],
   "source": [
    "%%bash\n",
    "\n",
    "deeptools --version\n"
   ]
  },
  {
   "cell_type": "code",
   "execution_count": null,
   "id": "edfca28d-9a51-49ed-a00c-fb49875240f3",
   "metadata": {},
   "outputs": [],
   "source": [
    "%%bash -s  \"$str_fn_chip_bw\" \"$str_exp_names\" \"$ILC_diff_peak_bed\" \"$out_dir\"\n",
    "\n",
    "\n",
    "multiBigwigSummary BED-file \\\n",
    "--bwfiles $1 \\\n",
    "--BED $3 \\\n",
    "--labels $2 \\\n",
    "--outFileName $4pcILC2_ILC2_diff_peaks_openChromatin_Signal.npz \\\n",
    "--outRawCounts $4pcILC2_ILC2_diff_peaks_openChromatin_Signal.tab \\\n",
    "-p 4\n"
   ]
  },
  {
   "cell_type": "markdown",
   "id": "f55a2cc3-c3fc-452a-9e13-f27ce8ebb862",
   "metadata": {},
   "source": [
    "### Hierarchical Clustering of mILC2 mExILC2 Signature ATAC Peaks"
   ]
  },
  {
   "cell_type": "code",
   "execution_count": null,
   "id": "0662f42f-9175-4601-9aa2-10e7da8edfb9",
   "metadata": {},
   "outputs": [],
   "source": [
    "ILC_peak_signal = pd.read_csv(f'{out_dir}pcILC2_ILC2_diff_peaks_openChromatin_Signal.tab',\n",
    "                                  sep = '\\t',\n",
    "                                  names = ['chr','start','end'] + exp_names,\n",
    "                                 header = 0)"
   ]
  },
  {
   "cell_type": "markdown",
   "id": "7a467f67-d4a3-42e4-9780-9f1059b0b1f2",
   "metadata": {},
   "source": [
    "#### Annotate ATAC peaks with proximal genes (GREAT)\n",
    "1. pcILC2_ILC2_differential_ATAC_peaks.bed was run through GREAT online portal \n",
    "    1. Parameters:\n",
    "        1. Species Assembly: Mouse: GRCm38 (UCSC mm10, Dec. 2011)\n",
    "        2. Associating genomic regions with genes: Single nearest Gene within 1000 kb\n",
    "        3. Include curated regulatory domains = True"
   ]
  },
  {
   "cell_type": "code",
   "execution_count": null,
   "id": "966d720d-7d2a-4f20-9139-664412dc0ccb",
   "metadata": {},
   "outputs": [],
   "source": [
    "# Annotate the deepTools matrix with proximal genes \n",
    "\n",
    "file = './greatData/pcILC2_ILC2_diff_ATAC_GREAT_geneAnno.txt'\n",
    "\n",
    "ilc_diff_peaks = pd.read_csv(file, sep = '\\t')\n",
    "\n",
    "ilc_diff_peaks.columns = ['peakNAME', 'gene_dist', 'association_rule']\n",
    "\n",
    "ilc_diff_peaks.drop(columns=['association_rule'], inplace=True)\n",
    "\n",
    "# Drop peaks that have no associated gene\n",
    "ilc_diff_peaks = ilc_diff_peaks[~ilc_diff_peaks['gene_dist'].str.contains('NONE')]\n",
    "\n",
    "ilc_diff_peaks[['geneName', 'dist']] = ilc_diff_peaks['gene_dist'].str.split(\" \", n = 1,expand = True)\n",
    "\n",
    "ilc_diff_peaks.drop(columns=['gene_dist'], inplace=True)\n",
    "\n",
    "# Handles situation where there are multiple genes for a given ROE\n",
    "if ilc_diff_peaks.loc[ilc_diff_peaks['dist'].str.contains(\",\"),'dist'].empty != True: \n",
    "    ilc_diff_peaks.loc[ilc_diff_peaks['dist'].str.contains(\",\"),'dist'] =  ilc_diff_peaks.loc[ilc_diff_peaks['dist'].str.contains(\",\"),'dist'].tolist()[0].split(\",\")[0]\n",
    "    \n",
    "    #Isolate the distance value to nearest gene\n",
    "    ilc_diff_peaks['dist'] = ilc_diff_peaks['dist'].str.lstrip('(+(-').str.rstrip(' )')\n",
    "\n",
    "    #Type cast Distance to nearest gene as int64\n",
    "    ilc_diff_peaks['dist'] = ilc_diff_peaks['dist'].astype('int64')\n",
    "else:   \n",
    "   #Isolate the distance value to nearest gene\n",
    "    ilc_diff_peaks['dist'] = ilc_diff_peaks['dist'].str.lstrip('(+(-').str.rstrip(' )')\n",
    "\n",
    "    #Type cast Distance to nearest gene as int64\n",
    "    ilc_diff_peaks['dist'] = ilc_diff_peaks['dist'].astype('int64')\n",
    "\n"
   ]
  },
  {
   "cell_type": "code",
   "execution_count": null,
   "id": "f161bf46-3e33-4469-baa7-deeae35d0874",
   "metadata": {},
   "outputs": [],
   "source": [
    "# Annotate ATAC signal matrix with proximal gene Names\n",
    "ILC_peak_singal = ILC_peak_signal.set_index([\"chr\",\"start\",\"end\"])\n",
    "\n",
    "# Add coordinates to the DESeq2 results (ILC2_)\n",
    "ILC_deseq_GREAT = ILC_deseq_GREAT.join(ILC_union_bed).reset_index().rename(columns = {\"Chr\":\"chr\", \"Start\":\"start\", \"End\":\"end\"}).set_index([\"chr\",\"start\",\"end\"])\n",
    "\n",
    "#Add unique peak IDs to dataFrame\n",
    "ILC_clust_data = ILC_peak_singal.join(ILC_deseq_GREAT).reset_index().set_index(\"peakID\")\n",
    "\n",
    "#Add gene names to df\n",
    "ILC_clust_data = ILC_clust_data.join(ilc_diff_peaks.set_index(\"peakNAME\"))\n",
    "\n",
    "# # Save BED of differential regions annotated with proximal genes\n",
    "# ILC_clust_data.to_csv(f\"{out_dir}ILC2_pcILC2_differential_ATAC_regions_geneNames.bed\",\n",
    "#                      columns = ['chr','start','end','geneName'],\n",
    "#                      index = False,\n",
    "#                      sep = '\\t')\n"
   ]
  },
  {
   "cell_type": "code",
   "execution_count": null,
   "id": "8b4a7ca5-f81e-458f-8dc0-0582baf4729b",
   "metadata": {},
   "outputs": [],
   "source": [
    "#Create Matrix with proximal gene set as index\n",
    "ILC_clust_matrix = ILC_clust_data.reset_index().set_index(\"geneName\").loc[:,\"ILC1_rep1\":\"ILC2_rep3\"]\n"
   ]
  },
  {
   "cell_type": "code",
   "execution_count": null,
   "id": "afefb55b-4876-42d4-acf0-910fc40537bf",
   "metadata": {},
   "outputs": [],
   "source": [
    "#Reorder the Matrix (for plotting)\n",
    "ILC_clust_matrix = ILC_clust_matrix[['ILC2_rep1','ILC2_rep2','ILC2_rep3','ILC1_rep1','ILC1_rep2']]"
   ]
  },
  {
   "cell_type": "markdown",
   "id": "e7d7f41b-58b9-4a95-8f5c-2c34f3fd02d6",
   "metadata": {},
   "source": [
    "#### Generate Plot"
   ]
  },
  {
   "cell_type": "code",
   "execution_count": null,
   "id": "353cb960-5829-49be-9c0e-0bccaebedcf0",
   "metadata": {},
   "outputs": [],
   "source": [
    "ilc_clustmap = sns.clustermap(ILC_clust_matrix,\n",
    "              z_score=0, method=\"average\",\n",
    "              cmap = sns.diverging_palette(230, 50, as_cmap=True),\n",
    "              col_cluster = False,\n",
    "              yticklabels=False,\n",
    "              figsize = (5,9),\n",
    "              cbar_pos=(1., 0.1, 0.04, 0.18),\n",
    "              cbar_kws={'ticks': [-1.5, 0.0, 1.5]})\n",
    "\n",
    "plt.savefig(f'{out_dir}Fig3e_ILC2_pcILC2_differential_ATAC_clusterMap.pdf',\n",
    "            bbox_inches=\"tight\",\n",
    "            transparent=True)\n"
   ]
  },
  {
   "cell_type": "code",
   "execution_count": null,
   "id": "057a688d-47b0-49bd-ae00-a217c681fa38",
   "metadata": {},
   "outputs": [],
   "source": []
  }
 ],
 "metadata": {
  "kernelspec": {
   "display_name": "Python 3 (ipykernel)",
   "language": "python",
   "name": "python3"
  },
  "language_info": {
   "codemirror_mode": {
    "name": "ipython",
    "version": 3
   },
   "file_extension": ".py",
   "mimetype": "text/x-python",
   "name": "python",
   "nbconvert_exporter": "python",
   "pygments_lexer": "ipython3",
   "version": "3.9.7"
  }
 },
 "nbformat": 4,
 "nbformat_minor": 5
}
